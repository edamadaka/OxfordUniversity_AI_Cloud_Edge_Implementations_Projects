{
 "cells": [
  {
   "cell_type": "markdown",
   "metadata": {
    "id": "view-in-github"
   },
   "source": [
    "<a href=\"https://colab.research.google.com/github/DanRHowarth/Artificial-Intelligence-Cloud-and-Edge-Implementations/blob/master/Oxford_Numpy.ipynb\" target=\"_parent\"><img src=\"https://colab.research.google.com/assets/colab-badge.svg\" alt=\"Open In Colab\"/></a>"
   ]
  },
  {
   "cell_type": "markdown",
   "metadata": {
    "id": "3KIiXVqiex-8"
   },
   "source": [
    "# Numpy Tutorial"
   ]
  },
  {
   "cell_type": "markdown",
   "metadata": {
    "id": "5QVOlDnXe7hK"
   },
   "source": [
    "### This tutorial covers the following:\n",
    " 1. Overview of Numpy \n",
    " 2. Introduction to Numpy Arrays\n",
    "   *  Creating arrays \n",
    "   *  Locating elements of an array \n",
    "   *  Altering properties of an array, including it's `shape` and `datatype`\n",
    " 3. Performing operations on Arrays\n",
    "  * Arithmetic operations\n",
    "  * Boolean Operations \n",
    "  * Universal functions\n",
    " \n",
    "#### Exercises\n",
    " * Each section will have an exercise to help reinforce your learning. We suggest you:\n",
    "   * Write out each line of code by hand (rather than copy and paste it from the relevant example) - this will improve your understanding of code syntax\n",
    "   * Write out, above each line of code, an explanation as to what the code, using a comment `#` - this will improve your understanding of how the code works"
   ]
  },
  {
   "cell_type": "markdown",
   "metadata": {
    "id": "jxFeWxklf9Du"
   },
   "source": [
    "### 1. Overview of Numpy\n",
    "\n",
    "\n",
    "* [Python for Data Analysis](https://www.amazon.co.uk/Python-Data-Analysis-Wrangling-IPython-ebook/dp/B075X4LT6K/ref=sr_1_1?s=digital-text&ie=UTF8&qid=1540755909&sr=1-1&keywords=python+for+data+analysis ) sets out the following benefits of the Numpy library: \n",
    "\n",
    "  * the `ndarray`, is an efficient multidimensional array providing fast array-oriented arithmetic operations and flexible broadcasting capabilities.\n",
    "\n",
    "  * Mathematical functions for fast operations on entire arrays of data without having to write loops.\n",
    "\n",
    "  * Tools for reading/writing array data to disk and working with memory-mapped files.\n",
    "\n",
    "  * Linear algebra, random number generation, and Fourier transform capabilities.\n",
    "\n",
    "\n",
    "* It is designed for efficiency on large arrays of data because it internally stores data in a contiguous block of memory, independent of other built-in Python objects. Numpy operations perform complex computations on entire arrays without the need for Python for loops.\n",
    "\n",
    "* See *Python for Data Analysis*, or [Python Data Science Handbook](https://jakevdp.github.io/PythonDataScienceHandbook/) (free) for more background on the library and its benefits.\n"
   ]
  },
  {
   "cell_type": "code",
   "execution_count": 1,
   "metadata": {
    "id": "qDS8J9qdhmAJ"
   },
   "outputs": [],
   "source": [
    "## this simple example will demonstrate the difference in efficiency between numpy and python \n",
    "\n",
    "# it is convention to import numpy this way\n",
    "import numpy as np\n",
    "\n",
    "# we create our first numpy array - we will come back to this type of operation later \n",
    "my_arr = np.arange(1000000)\n",
    "\n",
    "# create a python list with the same values, but this is obviously not stored as a numpy array\n",
    "my_list = list(range(1000000))"
   ]
  },
  {
   "cell_type": "code",
   "execution_count": 4,
   "metadata": {
    "id": "ijRQnOpgh_df"
   },
   "outputs": [
    {
     "name": "stdout",
     "output_type": "stream",
     "text": [
      "CPU times: user 2.97 ms, sys: 3.24 ms, total: 6.21 ms\n",
      "Wall time: 4.65 ms\n"
     ]
    }
   ],
   "source": [
    "## let's time how long an operation takes in numpy\n",
    "%time my_arr2 = my_arr * 2"
   ]
  },
  {
   "cell_type": "code",
   "execution_count": 5,
   "metadata": {
    "id": "xJRUSo4FPcmC"
   },
   "outputs": [
    {
     "name": "stdout",
     "output_type": "stream",
     "text": [
      "CPU times: user 49.4 ms, sys: 16 ms, total: 65.4 ms\n",
      "Wall time: 63.9 ms\n"
     ]
    }
   ],
   "source": [
    "# and compare it to the same operation in python\n",
    "%time my_list2 = [x * 2 for x in my_list]"
   ]
  },
  {
   "cell_type": "markdown",
   "metadata": {
    "id": "2zqt3F1GiEi6"
   },
   "source": [
    "### 2. Introduction to Numpy Arrays\n",
    "\n",
    "* The *N-dimensional array object*, or `ndarray`, is a fast, flexible container for large datasets in Python. Arrays enable you to perform mathematical operations on whole blocks of data using similar syntax to the equivalent operations between scalar elements.\n",
    "* In this section, we will cover:\n",
    "  * How to create arrays\n",
    "  * How to access different parts of the array \n",
    "  * The properties of arrays, and how to modify them."
   ]
  },
  {
   "cell_type": "markdown",
   "metadata": {
    "id": "LVNOHN7hifnc"
   },
   "source": [
    "#### 2.1 Creating arrays\n",
    "* There are a number of different ways to create an array. We cover some of the main ways here, including:\n",
    "  * passing in values to the parameters of `np.array`\n",
    "  * `zeroes`: an array of zero values \n",
    "  * `ones`: an array of all ones \n",
    "  * `full`: an array of a specified constant value \n",
    "  * `random`: an array of random values\n",
    "  * `eye`: an array with ones on the diagonal and zeroes otherwise\n",
    "  * converting from a python list to a numpy array\n",
    "  * `arange`: an array with values within the range specified \n",
    "  * `linspace`: an array of equally spaced values within the upper and lower bounds specified\n",
    "  * `from pandas`\n",
    " \n"
   ]
  },
  {
   "cell_type": "code",
   "execution_count": 17,
   "metadata": {
    "id": "5onuLDx6ZLLe"
   },
   "outputs": [
    {
     "data": {
      "text/plain": [
       "array([0, 1, 2])"
      ]
     },
     "execution_count": 17,
     "metadata": {},
     "output_type": "execute_result"
    }
   ],
   "source": [
    "# Create an array by passing in values  \n",
    "a = np.array([0, 1, 2]) \n",
    "a"
   ]
  },
  {
   "cell_type": "code",
   "execution_count": 7,
   "metadata": {
    "id": "5UYT_-vyh6Mn"
   },
   "outputs": [
    {
     "data": {
      "text/plain": [
       "array([[0, 1, 2],\n",
       "       [3, 4, 5]])"
      ]
     },
     "execution_count": 7,
     "metadata": {},
     "output_type": "execute_result"
    }
   ],
   "source": [
    "# Create a 2D array\n",
    "b = np.array([[0,1,2],[3,4,5]])  \n",
    "b"
   ]
  },
  {
   "cell_type": "code",
   "execution_count": 8,
   "metadata": {
    "id": "3vb8RDjrwClW"
   },
   "outputs": [
    {
     "data": {
      "text/plain": [
       "array([[0., 0., 0.],\n",
       "       [0., 0., 0.],\n",
       "       [0., 0., 0.]])"
      ]
     },
     "execution_count": 8,
     "metadata": {},
     "output_type": "execute_result"
    }
   ],
   "source": [
    "# Create an array of all zeros - with three rows of three columns each \n",
    "c = np.zeros((3,3)) \n",
    "c"
   ]
  },
  {
   "cell_type": "code",
   "execution_count": 9,
   "metadata": {
    "id": "PzuRFsCAwYUx"
   },
   "outputs": [
    {
     "data": {
      "text/plain": [
       "array([[1., 1.],\n",
       "       [1., 1.]])"
      ]
     },
     "execution_count": 9,
     "metadata": {},
     "output_type": "execute_result"
    }
   ],
   "source": [
    "# Create a 2x2 array of all ones\n",
    "d = np.ones((2,2)) \n",
    "d"
   ]
  },
  {
   "cell_type": "code",
   "execution_count": 10,
   "metadata": {
    "id": "XxYqqjMkxJYI"
   },
   "outputs": [
    {
     "data": {
      "text/plain": [
       "array([[7, 7, 7],\n",
       "       [7, 7, 7],\n",
       "       [7, 7, 7]])"
      ]
     },
     "execution_count": 10,
     "metadata": {},
     "output_type": "execute_result"
    }
   ],
   "source": [
    "# Create a 3x3 constant array\n",
    "e = np.full((3,3), 7) \n",
    "e"
   ]
  },
  {
   "cell_type": "code",
   "execution_count": 13,
   "metadata": {
    "id": "REEwBbVBXx1X"
   },
   "outputs": [
    {
     "data": {
      "text/plain": [
       "array([[0.09183256, 0.38523297, 0.60467487],\n",
       "       [0.46246678, 0.18689598, 0.90421648],\n",
       "       [0.63256652, 0.08092401, 0.40403242]])"
      ]
     },
     "execution_count": 13,
     "metadata": {},
     "output_type": "execute_result"
    }
   ],
   "source": [
    "# Create a 3x3 array filled with random values\n",
    "f = np.random.random((3,3)) \n",
    "f"
   ]
  },
  {
   "cell_type": "code",
   "execution_count": 14,
   "metadata": {
    "id": "zNisQgDpYMPD"
   },
   "outputs": [
    {
     "data": {
      "text/plain": [
       "array([[1., 0., 0.],\n",
       "       [0., 1., 0.],\n",
       "       [0., 0., 1.]])"
      ]
     },
     "execution_count": 14,
     "metadata": {},
     "output_type": "execute_result"
    }
   ],
   "source": [
    "# Create a 3x3 matrix with ones on the diagonal \n",
    "# np.identity also returns the same result \n",
    "g = np.eye(3)    \n",
    "g"
   ]
  },
  {
   "cell_type": "code",
   "execution_count": 18,
   "metadata": {
    "id": "GRs_J9kzYTuq"
   },
   "outputs": [
    {
     "data": {
      "text/plain": [
       "array([2, 3, 1, 0])"
      ]
     },
     "execution_count": 18,
     "metadata": {},
     "output_type": "execute_result"
    }
   ],
   "source": [
    "# convert list to array\n",
    "h = list((2, 3, 1, 0))\n",
    "h = np.array(h) \n",
    "h"
   ]
  },
  {
   "cell_type": "code",
   "execution_count": 19,
   "metadata": {
    "id": "Eka1O6M6Yotd"
   },
   "outputs": [
    {
     "data": {
      "text/plain": [
       "array([ 0,  1,  2,  3,  4,  5,  6,  7,  8,  9, 10, 11, 12, 13, 14, 15, 16,\n",
       "       17, 18, 19])"
      ]
     },
     "execution_count": 19,
     "metadata": {},
     "output_type": "execute_result"
    }
   ],
   "source": [
    "# arange() will create arrays with regularly incrementing values\n",
    "i = np.arange(20)\n",
    "i"
   ]
  },
  {
   "cell_type": "code",
   "execution_count": 20,
   "metadata": {
    "id": "PNZkdxria_7v"
   },
   "outputs": [
    {
     "data": {
      "text/plain": [
       "array([2. , 2.5, 3. , 3.5, 4. ])"
      ]
     },
     "execution_count": 20,
     "metadata": {},
     "output_type": "execute_result"
    }
   ],
   "source": [
    "# linspace() will create arrays with a specified number of items which are \n",
    "# spaced equally between the specified beginning and end values\n",
    "j = np.linspace(2., 4., 5)\n",
    "j"
   ]
  },
  {
   "cell_type": "code",
   "execution_count": 21,
   "metadata": {
    "id": "bXfYp0ZCkK8R"
   },
   "outputs": [
    {
     "data": {
      "text/plain": [
       "array([[21, 72, 67],\n",
       "       [23, 78, 69],\n",
       "       [32, 74, 56],\n",
       "       [52, 54, 76]])"
      ]
     },
     "execution_count": 21,
     "metadata": {},
     "output_type": "execute_result"
    }
   ],
   "source": [
    "## Create an array from a pandas dataframe\n",
    "\n",
    "# import pandas\n",
    "import pandas as pd\n",
    "\n",
    "#initialize a dataframe\n",
    "df = pd.DataFrame(\n",
    "\t[[21, 72, 67],\n",
    "\t[23, 78, 69],\n",
    "\t[32, 74, 56],\n",
    "\t[52, 54, 76]],\n",
    "\tcolumns=['a', 'b', 'c'])\n",
    "\n",
    "# use .to_numpy() to convert a dataframe to a numpy array\n",
    "df.to_numpy()"
   ]
  },
  {
   "cell_type": "code",
   "execution_count": 22,
   "metadata": {},
   "outputs": [
    {
     "data": {
      "text/html": [
       "<div>\n",
       "<style scoped>\n",
       "    .dataframe tbody tr th:only-of-type {\n",
       "        vertical-align: middle;\n",
       "    }\n",
       "\n",
       "    .dataframe tbody tr th {\n",
       "        vertical-align: top;\n",
       "    }\n",
       "\n",
       "    .dataframe thead th {\n",
       "        text-align: right;\n",
       "    }\n",
       "</style>\n",
       "<table border=\"1\" class=\"dataframe\">\n",
       "  <thead>\n",
       "    <tr style=\"text-align: right;\">\n",
       "      <th></th>\n",
       "      <th>a</th>\n",
       "      <th>b</th>\n",
       "      <th>c</th>\n",
       "    </tr>\n",
       "  </thead>\n",
       "  <tbody>\n",
       "    <tr>\n",
       "      <th>0</th>\n",
       "      <td>21</td>\n",
       "      <td>72</td>\n",
       "      <td>67</td>\n",
       "    </tr>\n",
       "    <tr>\n",
       "      <th>1</th>\n",
       "      <td>23</td>\n",
       "      <td>78</td>\n",
       "      <td>69</td>\n",
       "    </tr>\n",
       "    <tr>\n",
       "      <th>2</th>\n",
       "      <td>32</td>\n",
       "      <td>74</td>\n",
       "      <td>56</td>\n",
       "    </tr>\n",
       "    <tr>\n",
       "      <th>3</th>\n",
       "      <td>52</td>\n",
       "      <td>54</td>\n",
       "      <td>76</td>\n",
       "    </tr>\n",
       "  </tbody>\n",
       "</table>\n",
       "</div>"
      ],
      "text/plain": [
       "    a   b   c\n",
       "0  21  72  67\n",
       "1  23  78  69\n",
       "2  32  74  56\n",
       "3  52  54  76"
      ]
     },
     "execution_count": 22,
     "metadata": {},
     "output_type": "execute_result"
    }
   ],
   "source": [
    "df"
   ]
  },
  {
   "cell_type": "markdown",
   "metadata": {
    "id": "fTAItFP0XvDi"
   },
   "source": [
    "#### EXERCISE 2.1: Creating an array\n",
    "* Create an array using the `np.arange()` function. \n",
    "* Use the [documentation](https://docs.scipy.org/doc/numpy-1.15.0/reference/generated/numpy.arange.html) to add start, stop and step parameters "
   ]
  },
  {
   "cell_type": "code",
   "execution_count": 28,
   "metadata": {
    "id": "uKy7AZ_XYuP5"
   },
   "outputs": [
    {
     "name": "stdout",
     "output_type": "stream",
     "text": [
      "[ 1  3  5  7  9 11 13 15 17 19 21 23 25 27 29 31 33 35 37 39 41 43 45 47\n",
      " 49 51 53 55 57 59 61 63 65 67 69 71 73 75 77 79 81 83 85 87 89 91 93 95\n",
      " 97 99]\n",
      "50\n"
     ]
    }
   ],
   "source": [
    "## EXERCISE CODE HERE\n",
    "# creating an array whose element start from 1 and then incrementing by 2 until the the max value reaches 100\n",
    "ed_arr1 = np.arange(1,100,2)\n",
    "\n",
    "#print the array elements.\n",
    "print(ed_arr1)\n",
    "\n",
    "#print the number of elements in the array\n",
    "print(len(ed_arr1))"
   ]
  },
  {
   "cell_type": "markdown",
   "metadata": {
    "id": "z0YAQvcSSV5M"
   },
   "source": [
    "#### 2.2 Accessing arrays\n",
    "\n",
    "* The elements of numpy arrays can be accessed using their index. Numpy (and Pandas) refers to elements *along* the rows as being on `axis 1`, and elements *down* the rows as being on `axis 0`. This is set out below:\n",
    "\n",
    "![alt text](https://www.safaribooksonline.com/library/view/python-for-data/9781491957653/assets/pyda_0401.png)\n",
    "\n",
    "* Indexing a 1D array is relatively straightforward as the index values are all on the same axis.\n",
    "* Indexing a 2D array (or higher dimensions) is slightly trickier, as we need to access `axis 0` first, and then `axis 1`. In other words, we access rows, and then columns when indexing 2D arrays.\n",
    "* Note that Python indexing starts with the first value being indexed as 0.\n",
    "* The examples below should make this a little clearer. \n"
   ]
  },
  {
   "cell_type": "code",
   "execution_count": 27,
   "metadata": {
    "id": "LzmzbGQCUaTt"
   },
   "outputs": [
    {
     "name": "stdout",
     "output_type": "stream",
     "text": [
      "1D array:\n",
      " [0 1 2]\n",
      "\n",
      "Dimensions of array:  (3,)\n",
      "\n",
      "First element of array:  0\n",
      "\n",
      "Second element of array:  1\n",
      "\n",
      "Third element of array:  2\n"
     ]
    }
   ],
   "source": [
    "# lets go back to on the first array we created\n",
    "print(\"1D array:\\n\", a)\n",
    "\n",
    "# we can access the shape of the array like this\n",
    "print(\"\\nDimensions of array: \", a.shape)\n",
    "\n",
    "# and call the individual elements of the array using the element's index\n",
    "print(\"\\nFirst element of array: \", a[0])\n",
    "print(\"\\nSecond element of array: \", a[1])\n",
    "print(\"\\nThird element of array: \", a[2])"
   ]
  },
  {
   "cell_type": "code",
   "execution_count": 29,
   "metadata": {
    "id": "HCSWw_djU_VN"
   },
   "outputs": [
    {
     "name": "stdout",
     "output_type": "stream",
     "text": [
      "2D array:\n",
      " [[0 1 2]\n",
      " [3 4 5]]\n",
      "\n",
      "Dimensions of 2D array:  (2, 3)\n",
      "\n",
      "Array element [0,0]: 0\n",
      "\n",
      "Array elements [1,2] [0,1] [1,0]:  5 1 3\n"
     ]
    }
   ],
   "source": [
    "# lets compare this to a 2D array\n",
    "print(\"2D array:\\n\", b)\n",
    "\n",
    "# and contrast the shape of this array with the shape of a\n",
    "print(\"\\nDimensions of 2D array: \", b.shape)\n",
    "\n",
    "# pause and make sure you understand how the values are being accessed\n",
    "print(\"\\nArray element [0,0]:\", b[0, 0])\n",
    "print(\"\\nArray elements [1,2] [0,1] [1,0]: \", b[1, 2], b[0, 1], b[1, 0])"
   ]
  },
  {
   "cell_type": "code",
   "execution_count": 30,
   "metadata": {
    "id": "XAS6j6-omJ58"
   },
   "outputs": [
    {
     "data": {
      "text/plain": [
       "array([1, 2])"
      ]
     },
     "execution_count": 30,
     "metadata": {},
     "output_type": "execute_result"
    }
   ],
   "source": [
    "# We can also slice arrays, using the following approach:\n",
    "\n",
    "# a[start:end] # items start through to end-1\n",
    "# a[start:]    # items start through the rest of the array\n",
    "# a[:end]      # items from the beginning through to end-1\n",
    "# a[:]         # a copy of the whole array\n",
    "\n",
    "\n",
    "# The key point to remember is that the :end value represents the first value that is not in the selected slice. So, the difference \n",
    "# beween end and start is the number of elements selected (if the step is 1, the default).\n",
    "# The other feature is that start or end may be a negative number, which means it counts from the end of the array \n",
    "# instead of the beginning. The indexing is reversed when a negative number is used. So:\n",
    "\n",
    "# a[-1]    # last item in the array\n",
    "# a[-2:]   # last two items in the array\n",
    "# a[:-2]   # everything except the last two items\n",
    "\n",
    "# create a new array\n",
    "k = np.array([1,2,3,4])\n",
    "\n",
    "# access the first two elements\n",
    "k[0:2]"
   ]
  },
  {
   "cell_type": "code",
   "execution_count": 31,
   "metadata": {
    "id": "PIW3JAOwjsjA"
   },
   "outputs": [
    {
     "data": {
      "text/plain": [
       "array([ 9, 10, 11, 12])"
      ]
     },
     "execution_count": 31,
     "metadata": {},
     "output_type": "execute_result"
    }
   ],
   "source": [
    "# higher dimension slicing \n",
    "j = np.array([[1,2,3,4], [5,6,7,8], [9,10,11,12]])\n",
    "\n",
    "# access one row of the array\n",
    "j[2]"
   ]
  },
  {
   "cell_type": "code",
   "execution_count": 32,
   "metadata": {
    "id": "aq15Uy1RnmCY"
   },
   "outputs": [
    {
     "data": {
      "text/plain": [
       "array([ 9, 10])"
      ]
     },
     "execution_count": 32,
     "metadata": {},
     "output_type": "execute_result"
    }
   ],
   "source": [
    "# access values within one row - note that we can also express this as j[2][:2]\n",
    "j[2,:2]"
   ]
  },
  {
   "cell_type": "code",
   "execution_count": 33,
   "metadata": {
    "id": "fuvVu0SxoLNX"
   },
   "outputs": [
    {
     "data": {
      "text/plain": [
       "array([[ 1,  2],\n",
       "       [ 5,  6],\n",
       "       [ 9, 10]])"
      ]
     },
     "execution_count": 33,
     "metadata": {},
     "output_type": "execute_result"
    }
   ],
   "source": [
    "# access all the rows (axis 0) and two of the columns (axis 1)\n",
    "j[:,:2]"
   ]
  },
  {
   "cell_type": "markdown",
   "metadata": {
    "id": "uRbSFcl7r6ot"
   },
   "source": [
    "#### EXERCISE 2.2: Accessing Arrays \n",
    "* Create a 2D array using one of the methods from section 2.1\n",
    "* Create a new variable containing a slice of the original array\n",
    "* Replace one of the values of the sliced array using the following template:\n",
    "  * `array_slice[index_value] = new_value`\n",
    "* Call the original 2D array and notice if the new_value has been updated  "
   ]
  },
  {
   "cell_type": "code",
   "execution_count": 56,
   "metadata": {
    "id": "z-vUF1Fus2kC"
   },
   "outputs": [
    {
     "name": "stdout",
     "output_type": "stream",
     "text": [
      "Original array\n",
      "[[0.45559035 0.05795459 0.65286311 0.52229635]\n",
      " [0.74391222 0.62391436 0.98717767 0.58060448]\n",
      " [0.10445647 0.11707758 0.96744797 0.41876451]]\n",
      "\n",
      "Original Slice\n",
      "[[0.45559035]\n",
      " [0.74391222]]\n",
      "\n",
      "Slice after update\n",
      "[[9.        ]\n",
      " [0.74391222]]\n",
      "\n",
      "Original array after updating the slice\n",
      "[[9.         0.05795459 0.65286311 0.52229635]\n",
      " [0.74391222 0.62391436 0.98717767 0.58060448]\n",
      " [0.10445647 0.11707758 0.96744797 0.41876451]]\n"
     ]
    }
   ],
   "source": [
    "## EXERCISE CODE HERE\n",
    "#creating 3by4 array using random funtion. Array is initialized with random values.\n",
    "ex_arr2 = np.random.random((3,4))\n",
    "print(\"Original array\")\n",
    "print(ex_arr2)\n",
    "\n",
    "#extracting the elements 0-1 rows and 0th column\n",
    "ex_slice1 = ex_arr2[0:2,0:1]\n",
    "print()\n",
    "print(\"Original Slice\")\n",
    "print(ex_slice1)\n",
    "\n",
    "#Replace 1 value with 9:\n",
    "ex_slice1[0] = 9\n",
    "print()\n",
    "print(\"Slice after update\")\n",
    "print(ex_slice1)\n",
    "\n",
    "#printing the original array. \n",
    "print()\n",
    "print('Original array after updating the slice')\n",
    "print(ex_arr2)"
   ]
  },
  {
   "cell_type": "markdown",
   "metadata": {},
   "source": [
    "We can see the original array value is also updated to 9"
   ]
  },
  {
   "cell_type": "markdown",
   "metadata": {
    "id": "AUuFjyldSYsV"
   },
   "source": [
    "#### 2.3 Other properties of arrays\n",
    "* An ndarray is a generic multidimensional container for homogeneous data. Every array has a shape (which we discovered above), a tuple indicating the size of each dimension, and a dtype, an object describing the data type of the array\n",
    "* We can access information on these properties, and alter them, as we will run through below. Operations to reshape the data are common in Deep Learning, and some of the methods used are covered here. \n"
   ]
  },
  {
   "cell_type": "code",
   "execution_count": 57,
   "metadata": {
    "id": "DjYaanYkYM2v"
   },
   "outputs": [
    {
     "name": "stdout",
     "output_type": "stream",
     "text": [
      "a before changing an element value in place:\n",
      " [0 1 2]\n",
      "\n",
      "a after changing an element value in place:\n",
      " [5 1 2]\n"
     ]
    }
   ],
   "source": [
    "# One important thing to note is that we can change an element of the array *inplace*\n",
    "print (\"a before changing an element value in place:\\n\", a)\n",
    "\n",
    "# change the value at the first elements\n",
    "a[0] = 5                 \n",
    "\n",
    "# and show the result \n",
    "print (\"\\na after changing an element value in place:\\n\", a)"
   ]
  },
  {
   "cell_type": "code",
   "execution_count": 58,
   "metadata": {
    "id": "Bz7WHxLEUDPV"
   },
   "outputs": [
    {
     "name": "stdout",
     "output_type": "stream",
     "text": [
      "Data type of a:  int64\n"
     ]
    }
   ],
   "source": [
    "# we can access the data type of an array using '.dtype'\n",
    "print(\"Data type of a: \", a.dtype)"
   ]
  },
  {
   "cell_type": "code",
   "execution_count": 59,
   "metadata": {
    "id": "9NgJDlen4KA2"
   },
   "outputs": [
    {
     "name": "stdout",
     "output_type": "stream",
     "text": [
      "float64\n"
     ]
    },
    {
     "data": {
      "text/plain": [
       "array([5., 1., 2.])"
      ]
     },
     "execution_count": 59,
     "metadata": {},
     "output_type": "execute_result"
    }
   ],
   "source": [
    "# note that numpy automatically assigned us the data type - but we can specify it\n",
    "a_float = np.array(a, dtype=np.float64)\n",
    "\n",
    "# print the datatype\n",
    "print(a_float.dtype)\n",
    "\n",
    "# and we can see that the array has a decimal point after the number \n",
    "a_float"
   ]
  },
  {
   "cell_type": "code",
   "execution_count": 62,
   "metadata": {
    "id": "tLyzikOU4TuD"
   },
   "outputs": [
    {
     "name": "stdout",
     "output_type": "stream",
     "text": [
      "int32\n"
     ]
    },
    {
     "data": {
      "text/plain": [
       "array([5, 1, 2], dtype=int32)"
      ]
     },
     "execution_count": 62,
     "metadata": {},
     "output_type": "execute_result"
    }
   ],
   "source": [
    "# we can explicitly convert or cast an array from one dtype to another using ndarray’s astype method\n",
    "a_int32 = a_float.astype(np.int32)\n",
    "\n",
    "# print the dtype\n",
    "print(a_int32.dtype)\n",
    "\n",
    "# we can see that the numbers have been converted back to integers \n",
    "a_int32"
   ]
  },
  {
   "cell_type": "code",
   "execution_count": 65,
   "metadata": {
    "id": "DyYiJpyE4jcK"
   },
   "outputs": [
    {
     "data": {
      "text/plain": [
       "array([ 1.25, -9.6 , 42.  ])"
      ]
     },
     "execution_count": 65,
     "metadata": {},
     "output_type": "execute_result"
    }
   ],
   "source": [
    "# Converting from strings to numbers can also be useful\n",
    "numeric_strings = np.array(['1.25', '-9.6', '42'], dtype=np.string_)\n",
    "\n",
    "# here we convert to 'float', we could also use np.float\n",
    "numeric_strings.astype(float)"
   ]
  },
  {
   "cell_type": "code",
   "execution_count": 66,
   "metadata": {
    "id": "eGmL0LMV36MX"
   },
   "outputs": [
    {
     "name": "stdout",
     "output_type": "stream",
     "text": [
      "(3, 4)\n"
     ]
    },
    {
     "data": {
      "text/plain": [
       "array([[ 1,  2],\n",
       "       [ 3,  4],\n",
       "       [ 5,  6],\n",
       "       [ 7,  8],\n",
       "       [ 9, 10],\n",
       "       [11, 12]])"
      ]
     },
     "execution_count": 66,
     "metadata": {},
     "output_type": "execute_result"
    }
   ],
   "source": [
    "# earlier we looked at the .shape attribute. Lets now look at how to reshape numpy arrays \n",
    "print(j.shape)\n",
    "\n",
    "# reshape - noting that the new shape must 'fit' the same number of values (12 in total) \n",
    "k = j.reshape(6,2)\n",
    "k"
   ]
  },
  {
   "cell_type": "code",
   "execution_count": 67,
   "metadata": {
    "id": "eC1hb5c4wwY0"
   },
   "outputs": [
    {
     "data": {
      "text/plain": [
       "(2, 750)"
      ]
     },
     "execution_count": 67,
     "metadata": {},
     "output_type": "execute_result"
    }
   ],
   "source": [
    "# passing -1 as the second parameter means numpy will infer the size of the second value\n",
    "# this is useful if you have large array \n",
    "\n",
    "l = np.arange(1500).reshape(2,-1)\n",
    "l.shape"
   ]
  },
  {
   "cell_type": "code",
   "execution_count": 70,
   "metadata": {
    "id": "O4kMKr1xxjv-"
   },
   "outputs": [
    {
     "data": {
      "text/plain": [
       "array([[0, 1, 2],\n",
       "       [3, 4, 5],\n",
       "       [6, 7, 8]])"
      ]
     },
     "metadata": {},
     "output_type": "display_data"
    },
    {
     "data": {
      "text/plain": [
       "array([[0.95910292, 0.80030274, 0.82456898],\n",
       "       [0.92427204, 0.43480263, 0.10532002],\n",
       "       [0.8193717 , 0.01387159, 0.65119362]])"
      ]
     },
     "metadata": {},
     "output_type": "display_data"
    }
   ],
   "source": [
    "# we can join two different arrays either vertically (axis 0) or horizontally (axis 1)\n",
    "# Create 2 arrays\n",
    "m = np.array([np.arange(0,3),np.arange(3,6), np.arange(6,9)])\n",
    "display(m)\n",
    "n = np.random.random((3,3))\n",
    "display(n)"
   ]
  },
  {
   "cell_type": "code",
   "execution_count": 71,
   "metadata": {
    "id": "NhvMJjNBzD7Y"
   },
   "outputs": [
    {
     "data": {
      "text/plain": [
       "array([[0.        , 1.        , 2.        ],\n",
       "       [3.        , 4.        , 5.        ],\n",
       "       [6.        , 7.        , 8.        ],\n",
       "       [0.95910292, 0.80030274, 0.82456898],\n",
       "       [0.92427204, 0.43480263, 0.10532002],\n",
       "       [0.8193717 , 0.01387159, 0.65119362]])"
      ]
     },
     "execution_count": 71,
     "metadata": {},
     "output_type": "execute_result"
    }
   ],
   "source": [
    "# join - 'stack' vertically - note it takes a tuple as an argument \n",
    "o = np.vstack((m,n))\n",
    "o"
   ]
  },
  {
   "cell_type": "code",
   "execution_count": 72,
   "metadata": {
    "id": "q3VUX0oazxBm"
   },
   "outputs": [
    {
     "data": {
      "text/plain": [
       "array([[0.        , 1.        , 2.        , 0.95910292, 0.80030274,\n",
       "        0.82456898],\n",
       "       [3.        , 4.        , 5.        , 0.92427204, 0.43480263,\n",
       "        0.10532002],\n",
       "       [6.        , 7.        , 8.        , 0.8193717 , 0.01387159,\n",
       "        0.65119362]])"
      ]
     },
     "execution_count": 72,
     "metadata": {},
     "output_type": "execute_result"
    }
   ],
   "source": [
    "# stack horizontally\n",
    "p = np.hstack((m,n))\n",
    "p"
   ]
  },
  {
   "cell_type": "code",
   "execution_count": 73,
   "metadata": {
    "id": "3DTa6PXmz9H0"
   },
   "outputs": [
    {
     "data": {
      "text/plain": [
       "array([0.        , 1.        , 2.        , 3.        , 4.        ,\n",
       "       5.        , 6.        , 7.        , 8.        , 0.95910292,\n",
       "       0.80030274, 0.82456898, 0.92427204, 0.43480263, 0.10532002,\n",
       "       0.8193717 , 0.01387159, 0.65119362])"
      ]
     },
     "execution_count": 73,
     "metadata": {},
     "output_type": "execute_result"
    }
   ],
   "source": [
    "# we can then use .ravel() or .flatten() to return 1D arrays\n",
    "q = o.ravel()\n",
    "q"
   ]
  },
  {
   "cell_type": "code",
   "execution_count": 74,
   "metadata": {
    "id": "12zseK9m0HMz"
   },
   "outputs": [
    {
     "data": {
      "text/plain": [
       "array([0.        , 1.        , 2.        , 0.95910292, 0.80030274,\n",
       "       0.82456898, 3.        , 4.        , 5.        , 0.92427204,\n",
       "       0.43480263, 0.10532002, 6.        , 7.        , 8.        ,\n",
       "       0.8193717 , 0.01387159, 0.65119362])"
      ]
     },
     "execution_count": 74,
     "metadata": {},
     "output_type": "execute_result"
    }
   ],
   "source": [
    "# flatten returns a copy of the array, ravel does not - otherwise they perform the same\n",
    "r = p.flatten()\n",
    "r"
   ]
  },
  {
   "cell_type": "markdown",
   "metadata": {
    "id": "38D2S3Lmsg8R"
   },
   "source": [
    "#### EXERCISE 2.3: Properties of Arrays\n",
    "* Create two 2D arrays\n",
    "* Reshape one or both of them \n",
    "* Stack them together\n",
    "* Convert this array to a 1D array "
   ]
  },
  {
   "cell_type": "code",
   "execution_count": 96,
   "metadata": {
    "id": "9D5cbpgTshIf"
   },
   "outputs": [
    {
     "name": "stdout",
     "output_type": "stream",
     "text": [
      "ex_arr3\n",
      "[[0.89687164 0.3167747  0.20865634]\n",
      " [0.40696316 0.43234252 0.11801561]]\n",
      "\n",
      "ex_arr4\n",
      "[[0.71267417 0.65440634 0.03272594]\n",
      " [0.54814046 0.57282877 0.12560244]]\n",
      "\n",
      "ex_arr5 created by vertical stacking of ex_arr3 and ex_arr4\n",
      "[[0.89687164 0.3167747  0.20865634]\n",
      " [0.40696316 0.43234252 0.11801561]\n",
      " [0.71267417 0.65440634 0.03272594]\n",
      " [0.54814046 0.57282877 0.12560244]]\n",
      "\n",
      "ex_arr3 after reshaping from 2by3 to 3by2\n",
      "[[0.89687164 0.3167747 ]\n",
      " [0.20865634 0.40696316]\n",
      " [0.43234252 0.11801561]]\n",
      "\n",
      "ex_arr5 after converting to 1D array using ravel function\n",
      "[0.89687164 0.3167747  0.20865634 0.40696316 0.43234252 0.11801561\n",
      " 0.71267417 0.65440634 0.03272594 0.54814046 0.57282877 0.12560244]\n"
     ]
    }
   ],
   "source": [
    "## EXERCISE CODE HERE \n",
    "ex_arr3 = np.random.random((2,3))\n",
    "ex_arr4 = np.random.random((2,3))\n",
    "print(\"ex_arr3\")\n",
    "print(ex_arr3)\n",
    "print()\n",
    "print(\"ex_arr4\")\n",
    "print(ex_arr4)\n",
    "ex_arr5 = np.vstack((ex_arr3,ex_arr4))\n",
    "print()\n",
    "print(\"ex_arr5 created by vertical stacking of ex_arr3 and ex_arr4\")\n",
    "print(ex_arr5)\n",
    "\n",
    "ex_arr3 = ex_arr3.reshape((3,-1))\n",
    "print()\n",
    "print(\"ex_arr3 after reshaping from 2by3 to 3by2\")\n",
    "print(ex_arr3)\n",
    "\n",
    "print()\n",
    "print(\"ex_arr5 after converting to 1D array using ravel function\")\n",
    "print(ex_arr5.ravel())\n"
   ]
  },
  {
   "cell_type": "markdown",
   "metadata": {
    "id": "YeOZr6HjsUCm"
   },
   "source": [
    "### 3. Performing Operations on Arrays\n",
    "\n",
    "* We can perform a range of operations on arrays, including: \n",
    "  * Arithmetic operations between arrays\n",
    "  * Boolean operations \n",
    "  * Universal functions\n",
    "  * Mathematical and Statistical operations \n",
    "* We will cover examples of these below; these are not the only operations that can be performed but will provide you with a good toolkit for a range of operations."
   ]
  },
  {
   "cell_type": "code",
   "execution_count": 97,
   "metadata": {
    "id": "7jXNSx_X0s3i"
   },
   "outputs": [
    {
     "data": {
      "text/plain": [
       "array([ 0.        ,  2.        ,  4.        ,  3.95910292,  4.80030274,\n",
       "        5.82456898,  9.        , 11.        , 13.        ,  1.88337496,\n",
       "        1.23510537,  0.92988899,  6.92427204,  7.43480263,  8.10532002,\n",
       "        1.6387434 ,  0.02774319,  1.30238723])"
      ]
     },
     "execution_count": 97,
     "metadata": {},
     "output_type": "execute_result"
    }
   ],
   "source": [
    "# Any arithmetic operations between equal-size arrays applies the operation element-wise:\n",
    "r + q"
   ]
  },
  {
   "cell_type": "code",
   "execution_count": 98,
   "metadata": {
    "id": "Wg28jq-t43jS"
   },
   "outputs": [
    {
     "data": {
      "text/plain": [
       "array([[0.95910292, 1.80030274, 2.82456898],\n",
       "       [3.92427204, 4.43480263, 5.10532002],\n",
       "       [6.8193717 , 7.01387159, 8.65119362]])"
      ]
     },
     "execution_count": 98,
     "metadata": {},
     "output_type": "execute_result"
    }
   ],
   "source": [
    "# we can also use universal functions (ufuncs), a function that performs element-wise operations on data in ndarrays\n",
    "np.add(m,n)"
   ]
  },
  {
   "cell_type": "code",
   "execution_count": 99,
   "metadata": {
    "id": "QFAHuQBV0uEW"
   },
   "outputs": [
    {
     "data": {
      "text/plain": [
       "array([[0.        , 0.80030274, 1.64913796],\n",
       "       [2.77281612, 1.73921051, 0.52660009],\n",
       "       [4.91623021, 0.09710116, 5.20954892]])"
      ]
     },
     "execution_count": 99,
     "metadata": {},
     "output_type": "execute_result"
    }
   ],
   "source": [
    "# the same applies to other arithmetic functions\n",
    "m * n "
   ]
  },
  {
   "cell_type": "code",
   "execution_count": 100,
   "metadata": {
    "id": "MpSgqcv96nu6"
   },
   "outputs": [
    {
     "data": {
      "text/plain": [
       "array([0.00000000e+00, 1.00000000e+00, 4.00000000e+00, 2.87730877e+00,\n",
       "       3.20121097e+00, 4.12284489e+00, 1.80000000e+01, 2.80000000e+01,\n",
       "       4.00000000e+01, 8.86472014e-01, 3.47973736e-01, 8.68436188e-02,\n",
       "       5.54563223e+00, 3.04361840e+00, 8.42560136e-01, 6.71369986e-01,\n",
       "       1.92421110e-04, 4.24053125e-01])"
      ]
     },
     "execution_count": 100,
     "metadata": {},
     "output_type": "execute_result"
    }
   ],
   "source": [
    "# with the ufunc equivalent \n",
    "np.multiply(r,q)"
   ]
  },
  {
   "cell_type": "code",
   "execution_count": 101,
   "metadata": {
    "id": "vJaNh7Bq41SO"
   },
   "outputs": [
    {
     "data": {
      "text/plain": [
       "array([0.2, 1. , 0.5])"
      ]
     },
     "execution_count": 101,
     "metadata": {},
     "output_type": "execute_result"
    }
   ],
   "source": [
    "# the same principles apply to subtraction and division \n",
    "# Arithmetic operations with scalars apply the scalar argument to each element in the array\n",
    "1 / a"
   ]
  },
  {
   "cell_type": "code",
   "execution_count": 102,
   "metadata": {
    "id": "z6ibKEdU7Js4"
   },
   "outputs": [
    {
     "data": {
      "text/plain": [
       "array([2.23606798, 1.        , 1.41421356])"
      ]
     },
     "execution_count": 102,
     "metadata": {},
     "output_type": "execute_result"
    }
   ],
   "source": [
    "# another example, raising a to the power 0.5\n",
    "a ** 0.5"
   ]
  },
  {
   "cell_type": "code",
   "execution_count": 103,
   "metadata": {
    "id": "2TqrDJc97WmY"
   },
   "outputs": [
    {
     "data": {
      "text/plain": [
       "array([148.4131591 ,   2.71828183,   7.3890561 ])"
      ]
     },
     "execution_count": 103,
     "metadata": {},
     "output_type": "execute_result"
    }
   ],
   "source": [
    "# here are a couple more examples - calculate the exponential of all array elements\n",
    "np.exp(a)"
   ]
  },
  {
   "cell_type": "code",
   "execution_count": 104,
   "metadata": {
    "id": "0YyoDhWEIo8i"
   },
   "outputs": [
    {
     "data": {
      "text/plain": [
       "array([0.        , 1.        , 1.41421356, 0.979338  , 0.89459641,\n",
       "       0.90805781, 1.73205081, 2.        , 2.23606798, 0.96139068,\n",
       "       0.65939565, 0.32453046, 2.44948974, 2.64575131, 2.82842712,\n",
       "       0.90519153, 0.11777773, 0.80696568])"
      ]
     },
     "execution_count": 104,
     "metadata": {},
     "output_type": "execute_result"
    }
   ],
   "source": [
    "# Elementwise square root\n",
    "np.sqrt(r)"
   ]
  },
  {
   "cell_type": "code",
   "execution_count": 105,
   "metadata": {
    "id": "v_ubq_FM99rD"
   },
   "outputs": [
    {
     "data": {
      "text/plain": [
       "array([ 0.95285687,  1.27965742,  0.96866644,  1.65433082,  1.24401458,\n",
       "        1.12387922,  0.29605999, -0.50882806])"
      ]
     },
     "execution_count": 105,
     "metadata": {},
     "output_type": "execute_result"
    }
   ],
   "source": [
    "# create two arrays\n",
    "s = np.random.randn(8)\n",
    "t = np.random.randn(8)\n",
    "\n",
    "# compare the arrays \n",
    "np.maximum(s, t)"
   ]
  },
  {
   "cell_type": "code",
   "execution_count": 106,
   "metadata": {
    "id": "VAcLTILiAP7y"
   },
   "outputs": [
    {
     "data": {
      "text/plain": [
       "2.6666666666666665"
      ]
     },
     "execution_count": 106,
     "metadata": {},
     "output_type": "execute_result"
    }
   ],
   "source": [
    "# statistical methods are available, such as mean(), sum() and cumsum() - cumulative sum()\n",
    "a.mean()"
   ]
  },
  {
   "cell_type": "code",
   "execution_count": 107,
   "metadata": {
    "id": "WsmOzJMf-2yN"
   },
   "outputs": [
    {
     "data": {
      "text/plain": [
       "8"
      ]
     },
     "execution_count": 107,
     "metadata": {},
     "output_type": "execute_result"
    }
   ],
   "source": [
    "# this format also works for all the statistical methods\n",
    "np.sum(a)"
   ]
  },
  {
   "cell_type": "code",
   "execution_count": 112,
   "metadata": {
    "id": "iW9gty247Gbb"
   },
   "outputs": [
    {
     "name": "stdout",
     "output_type": "stream",
     "text": [
      "[[1 2]\n",
      " [3 4]\n",
      " [5 6]]\n",
      "Find elements of array bigger than 2\n",
      "[[False False]\n",
      " [ True  True]\n",
      " [ True  True]]\n"
     ]
    }
   ],
   "source": [
    "# we can use boolean operations to filter valies\n",
    "u = np.array([[1,2], [3, 4], [5, 6]])\n",
    "\n",
    "# print array\n",
    "print(u)\n",
    "\n",
    "# first find the elements of a that are bigger than 2\n",
    "print(\"Find elements of array bigger than 2\")\n",
    "print((u > 2))"
   ]
  },
  {
   "cell_type": "code",
   "execution_count": 113,
   "metadata": {
    "id": "mpd_wcr07kpS"
   },
   "outputs": [
    {
     "name": "stdout",
     "output_type": "stream",
     "text": [
      "Values of array elements bigger than 2\n",
      "[3 4 5 6]\n"
     ]
    }
   ],
   "source": [
    "# then use the mask to get the actual value\n",
    "print(\"Values of array elements bigger than 2\")\n",
    "print(u[u > 2])"
   ]
  },
  {
   "cell_type": "markdown",
   "metadata": {
    "id": "kLV1BiNmuyRD"
   },
   "source": [
    "#### EXERCISE: Performing Operations on Arrays\n",
    "* Create two arrays\n",
    "* Perform an operation between the two arrays\n",
    "* Apply a scalar operation to one of the arrays\n",
    "* Use boolean indexing to select a subset of one of the arrays"
   ]
  },
  {
   "cell_type": "code",
   "execution_count": 121,
   "metadata": {
    "id": "XH8LnNiHu42u"
   },
   "outputs": [
    {
     "name": "stdout",
     "output_type": "stream",
     "text": [
      "ex_arr6\n",
      "[[1. 1. 1.]\n",
      " [1. 1. 1.]\n",
      " [1. 1. 1.]]\n",
      "\n",
      "ex_arr7\n",
      "[[1. 0. 0.]\n",
      " [0. 1. 0.]\n",
      " [0. 0. 1.]]\n",
      "\n",
      "performing addition of above 2 arrays\n",
      "[[2. 1. 1.]\n",
      " [1. 2. 1.]\n",
      " [1. 1. 2.]]\n",
      "\n",
      "performing sclar operation on array ex_arr6\n",
      "[[2. 2. 2.]\n",
      " [2. 2. 2.]\n",
      " [2. 2. 2.]]\n",
      "\n",
      "Use boolean indexing to select a subset of ex_arr7\n",
      "[1. 1. 1.]\n"
     ]
    }
   ],
   "source": [
    "## EXERCISE CODE GOES HERE \n",
    "ex_arr6 = np.ones((3,3))\n",
    "ex_arr7 = np.eye(3)\n",
    "\n",
    "print(\"ex_arr6\")\n",
    "print(ex_arr6)\n",
    "print()\n",
    "print(\"ex_arr7\")\n",
    "print(ex_arr7)\n",
    "\n",
    "print()\n",
    "print(\"Performing addition of above 2 arrays\")\n",
    "print(ex_arr6 + ex_arr7)\n",
    "\n",
    "print()\n",
    "print(\"Performing sclar operation on array ex_arr6\")\n",
    "print(ex_arr6 * 2)\n",
    "\n",
    "print()\n",
    "print(\"Use boolean indexing to select a subset of ex_arr7\")\n",
    "print(ex_arr7[ex_arr7 > 0])"
   ]
  },
  {
   "cell_type": "markdown",
   "metadata": {
    "id": "rX3PrnWBs411"
   },
   "source": [
    "### Review and Further Reading\n",
    "* We now have a good background in numpy, in particular what the library is and the benefit of vectorized operations over the approach taken by python on its own; how to create and locate values in arrays; how to perform operations on arrays; and how to broadcast between different numpy arrays.\n",
    "* There is of course much more to learn. We would suggest looking next at:\n",
    "  * `fancy indexing`\n",
    "  * `Broadcasting` (https://numpy.org/doc/stable/user/basics.broadcasting.html)\n",
    "  * Exploring `ufuncs`, mathematical and statistical operations in greater detail  https://numpy.org/doc/stable/reference/ufuncs.html\n",
    "  * Array-Oriented Programming with Arrays\n",
    "  * Expressing Conditional Logic as Array Operations\n",
    "  * Linear Algebra\n",
    "\n",
    "\n",
    "\n",
    "* Here are some follow-up resources:\n",
    "  * http://cs231n.github.io/python-numpy-tutorial/\n",
    "  * the books linked to at the start of the tutorial\n",
    "\n"
   ]
  }
 ],
 "metadata": {
  "colab": {
   "collapsed_sections": [],
   "name": "Oxford_Numpy.ipynb",
   "provenance": []
  },
  "kernelspec": {
   "display_name": "Python 3",
   "language": "python",
   "name": "python3"
  },
  "language_info": {
   "codemirror_mode": {
    "name": "ipython",
    "version": 3
   },
   "file_extension": ".py",
   "mimetype": "text/x-python",
   "name": "python",
   "nbconvert_exporter": "python",
   "pygments_lexer": "ipython3",
   "version": "3.8.3"
  }
 },
 "nbformat": 4,
 "nbformat_minor": 1
}
