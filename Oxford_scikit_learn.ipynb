{
 "cells": [
  {
   "cell_type": "markdown",
   "metadata": {
    "id": "view-in-github"
   },
   "source": [
    "<a href=\"https://colab.research.google.com/github/DanRHowarth/Artificial-Intelligence-Cloud-and-Edge-Implementations/blob/master/Oxford_scikit_learn.ipynb\" target=\"_parent\"><img src=\"https://colab.research.google.com/assets/colab-badge.svg\" alt=\"Open In Colab\"/></a>"
   ]
  },
  {
   "cell_type": "markdown",
   "metadata": {
    "id": "jyWa9zaxY5oI"
   },
   "source": [
    "# `scikit-learn` Tutorial\n",
    "* This notebook covers different code implements from the scikit learn library, including:\n",
    "  * Rescaling and Standardizing Data \n",
    "  * Model Evaluation and Metrics \n",
    "  * Classification and regression machine learning algorithms \n",
    "  * Regularization\n",
    "  * Optimising parameters \n",
    "  * Ensemble models \n",
    "  * Building Pipelines\n",
    "* We will use classification and regression datasets from `scikit-learn`, and will take code from the Hands-On Machine Learning with Scikit-Learn and TensorFlow* coursebook, as well as the [Machine Learning with Python Cookbook](https://www.amazon.co.uk/Machine-Learning-Python-Cookbook-Chris/dp/1491989386/ref=pd_sim_14_5?_encoding=UTF8&pd_rd_i=1491989386&pd_rd_r=e03d308c-dd3d-11e8-9244-bbcc5e42676d&pd_rd_w=lQiym&pd_rd_wg=lVZwd&pf_rd_i=desktop-dp-sims&pf_rd_m=A3P5ROKL5A1OLE&pf_rd_p=1e3b4162-429b-4ea8-80b8-75d978d3d89e&pf_rd_r=KBZG3157A75PS5MPGY8K&pf_rd_s=desktop-dp-sims&pf_rd_t=40701&psc=1&refRID=KBZG3157A75PS5MPGY8K).\n",
    "\n",
    "\n",
    "\n",
    "\n",
    "\n",
    "### Approach and Exercises\n",
    "* Note that this notebook is not focussed on how to structure an end to end machine learning problem, but is about extending the code implementations you will see in the end-to-end tutorials to further your knowledge.\n",
    "* This notebook is a progression from the previous notebooks, meaning that the exercises will generally be more involved. We will provide code implementations for one of the datasets and leave space for you to code implementations on a different dataset. Support is available via Teams. \n",
    "* Each section will have an exercise to help reinforce your learning. We suggest you:\n",
    "   * Write out each line of code by hand (rather than copy and paste it from the relevant example) - this will improve your understanding of code syntax\n",
    "   * Write out, above each line of code, an explanation as to what the code, using a comment `#` - this will improve your understanding of how the code works\n"
   ]
  },
  {
   "cell_type": "markdown",
   "metadata": {
    "id": "KA2bg4ruhi0G"
   },
   "source": [
    "## 1. Tutorial set up \n",
    "* Import statements\n",
    "* Loading the datasets\n",
    "* Reviewing the ML problem"
   ]
  },
  {
   "cell_type": "code",
   "execution_count": 1,
   "metadata": {
    "executionInfo": {
     "elapsed": 1503,
     "status": "ok",
     "timestamp": 1607939666115,
     "user": {
      "displayName": "A J",
      "photoUrl": "https://lh3.googleusercontent.com/a-/AOh14GjZDwFqnFt3HwqF4Wu3Au0RSvls62YjJWudcDUj=s64",
      "userId": "15417262701029927930"
     },
     "user_tz": 0
    },
    "id": "6VrrYp-SY2Z4"
   },
   "outputs": [],
   "source": [
    "# import statements \n",
    "from sklearn.datasets import load_breast_cancer\n",
    "from sklearn.datasets import load_boston\n",
    " \n",
    "import pandas as pd\n",
    "import numpy as np\n",
    " \n",
    "# Hide all warning messages\n",
    "import warnings\n",
    "warnings.filterwarnings('ignore')\n",
    " \n",
    "# we will generally import scikit learn libraries when they are required, so you understand which specifc libraries are required"
   ]
  },
  {
   "cell_type": "code",
   "execution_count": 2,
   "metadata": {
    "colab": {
     "base_uri": "https://localhost:8080/"
    },
    "executionInfo": {
     "elapsed": 2121,
     "status": "ok",
     "timestamp": 1607939666787,
     "user": {
      "displayName": "A J",
      "photoUrl": "https://lh3.googleusercontent.com/a-/AOh14GjZDwFqnFt3HwqF4Wu3Au0RSvls62YjJWudcDUj=s64",
      "userId": "15417262701029927930"
     },
     "user_tz": 0
    },
    "id": "A19qwVSK8oRL",
    "outputId": "060c611f-f1d0-4d29-a6c4-de3c1fc8c050"
   },
   "outputs": [
    {
     "name": "stdout",
     "output_type": "stream",
     "text": [
      "(569, 30)\n",
      "(569,)\n"
     ]
    }
   ],
   "source": [
    "# load the classification dataset\n",
    "class_data = load_breast_cancer()\n",
    "class_X = pd.DataFrame(class_data.data, columns = class_data.feature_names)\n",
    "class_y = class_data.target\n",
    " \n",
    "# check the data has loaded successfully \n",
    "print(class_X.shape)\n",
    "print(class_y.shape)"
   ]
  },
  {
   "cell_type": "code",
   "execution_count": 3,
   "metadata": {
    "colab": {
     "base_uri": "https://localhost:8080/"
    },
    "executionInfo": {
     "elapsed": 2098,
     "status": "ok",
     "timestamp": 1607939666791,
     "user": {
      "displayName": "A J",
      "photoUrl": "https://lh3.googleusercontent.com/a-/AOh14GjZDwFqnFt3HwqF4Wu3Au0RSvls62YjJWudcDUj=s64",
      "userId": "15417262701029927930"
     },
     "user_tz": 0
    },
    "id": "RK67KgsUDAvk",
    "outputId": "32575405-2772-4973-a0c3-e16d651c828a"
   },
   "outputs": [
    {
     "name": "stdout",
     "output_type": "stream",
     "text": [
      "(506, 13)\n",
      "(506,)\n"
     ]
    }
   ],
   "source": [
    "# load the regression dataset\n",
    "boston = load_boston()\n",
    "boston_X = pd.DataFrame(boston.data, columns = boston.feature_names)\n",
    "boston_y = boston.target\n",
    " \n",
    "# check the data has loaded successfully \n",
    "print(boston_X.shape)\n",
    "print(boston_y.shape)"
   ]
  },
  {
   "cell_type": "markdown",
   "metadata": {
    "id": "Em1bucYpgKsS"
   },
   "source": [
    "## 2. Rescaling and Standardizing Data \n",
    "* Machine Learning algorithms can receive performance benefits from data that has been rescaled and standardized, either in terms of speed or accuracy, or both.\n",
    "* There are a number of different ways of doing this, and implementations may vary because of algorithm requirements or personal preference.\n",
    "* We cover two common implementations below, and an additional one in the exercise. We'd encourage further research to understand the maths in more detail."
   ]
  },
  {
   "cell_type": "code",
   "execution_count": 4,
   "metadata": {
    "colab": {
     "base_uri": "https://localhost:8080/"
    },
    "executionInfo": {
     "elapsed": 2076,
     "status": "ok",
     "timestamp": 1607939666795,
     "user": {
      "displayName": "A J",
      "photoUrl": "https://lh3.googleusercontent.com/a-/AOh14GjZDwFqnFt3HwqF4Wu3Au0RSvls62YjJWudcDUj=s64",
      "userId": "15417262701029927930"
     },
     "user_tz": 0
    },
    "id": "q2dB0Y6qlAq5",
    "outputId": "efdf6eca-724d-4916-e17b-627c9b7cd3a9"
   },
   "outputs": [
    {
     "name": "stdout",
     "output_type": "stream",
     "text": [
      "Features prior to rescaling:\n",
      "\n",
      "0    0.9053\n",
      "1    0.7339\n",
      "2    0.7869\n",
      "3    1.1560\n",
      "4    0.7813\n",
      "5    0.8902\n",
      "6    0.7732\n",
      "7    1.3770\n",
      "8    1.0020\n",
      "9    1.5990\n",
      "Name: texture error, dtype: float64\n",
      "\n",
      "Feature shape prior to reshaping:\n",
      "(569,)\n"
     ]
    }
   ],
   "source": [
    "## rescaling using MinMaxScaler, which converts data to a specified range, usually (0,1) or (-1,1)\n",
    "# many machine learning algorithms assume data is on the same scale  \n",
    " \n",
    "# here we import the necessary library \n",
    "from sklearn.preprocessing import MinMaxScaler\n",
    " \n",
    "# Create feature - we will use one feature but you may just pass all the features to rescaler \n",
    "feature = class_X['texture error']\n",
    " \n",
    "# print feature prior to rescaling\n",
    "print(\"Features prior to rescaling:\\n\")\n",
    "print(feature[0:10])\n",
    " \n",
    "# we will print the shape out as well \n",
    "print(\"\\nFeature shape prior to reshaping:\")\n",
    "print(feature.shape)"
   ]
  },
  {
   "cell_type": "code",
   "execution_count": 5,
   "metadata": {
    "colab": {
     "base_uri": "https://localhost:8080/"
    },
    "executionInfo": {
     "elapsed": 2058,
     "status": "ok",
     "timestamp": 1607939666801,
     "user": {
      "displayName": "A J",
      "photoUrl": "https://lh3.googleusercontent.com/a-/AOh14GjZDwFqnFt3HwqF4Wu3Au0RSvls62YjJWudcDUj=s64",
      "userId": "15417262701029927930"
     },
     "user_tz": 0
    },
    "id": "Puz03eB8SCDw",
    "outputId": "46ea6123-ceaf-42ab-8fe5-6b722ee3eaa2"
   },
   "outputs": [
    {
     "name": "stdout",
     "output_type": "stream",
     "text": [
      "\n",
      "Feature shape after reshaping:\n"
     ]
    },
    {
     "data": {
      "text/plain": [
       "(569, 1)"
      ]
     },
     "execution_count": 5,
     "metadata": {},
     "output_type": "execute_result"
    }
   ],
   "source": [
    "## because we have used a pandas column, our data has the wrong shape for the function\n",
    "# we need a 2D tuple\n",
    " \n",
    "# this will reshape the data \n",
    "feature = feature.values.reshape(-1,1)\n",
    " \n",
    "# notice we now have a (samples,feature) tuple not just a (samples,) tuple\n",
    "print(\"\\nFeature shape after reshaping:\")\n",
    "feature.shape"
   ]
  },
  {
   "cell_type": "code",
   "execution_count": 6,
   "metadata": {
    "colab": {
     "base_uri": "https://localhost:8080/"
    },
    "executionInfo": {
     "elapsed": 2043,
     "status": "ok",
     "timestamp": 1607939666810,
     "user": {
      "displayName": "A J",
      "photoUrl": "https://lh3.googleusercontent.com/a-/AOh14GjZDwFqnFt3HwqF4Wu3Au0RSvls62YjJWudcDUj=s64",
      "userId": "15417262701029927930"
     },
     "user_tz": 0
    },
    "id": "D3VSoI24RvCf",
    "outputId": "a50d266e-4629-4dfc-b188-b0f7ce8daf03"
   },
   "outputs": [
    {
     "name": "stdout",
     "output_type": "stream",
     "text": [
      "Features after rescaling:\n",
      "\n"
     ]
    },
    {
     "data": {
      "text/plain": [
       "array([[0.12046941],\n",
       "       [0.08258929],\n",
       "       [0.09430251],\n",
       "       [0.17587518],\n",
       "       [0.09306489],\n",
       "       [0.11713225],\n",
       "       [0.09127475],\n",
       "       [0.22471711],\n",
       "       [0.14184052],\n",
       "       [0.27378006]])"
      ]
     },
     "execution_count": 6,
     "metadata": {},
     "output_type": "execute_result"
    }
   ],
   "source": [
    "# we need to instantiate the scaler and pass in the range we want our values to be scaled within \n",
    "minmax_scale = MinMaxScaler(feature_range=(0, 1))\n",
    " \n",
    "# Scale the feature - note the fit_transform function, in the next example we will separate these steps\n",
    "scaled_feature = minmax_scale.fit_transform(feature)\n",
    " \n",
    "# lets look at the features now we have rescaled\n",
    "print(\"Features after rescaling:\\n\")\n",
    "scaled_feature[0:10]"
   ]
  },
  {
   "cell_type": "code",
   "execution_count": 7,
   "metadata": {
    "colab": {
     "base_uri": "https://localhost:8080/",
     "height": 359
    },
    "executionInfo": {
     "elapsed": 2023,
     "status": "ok",
     "timestamp": 1607939666823,
     "user": {
      "displayName": "A J",
      "photoUrl": "https://lh3.googleusercontent.com/a-/AOh14GjZDwFqnFt3HwqF4Wu3Au0RSvls62YjJWudcDUj=s64",
      "userId": "15417262701029927930"
     },
     "user_tz": 0
    },
    "id": "gcILmN5JlA5W",
    "outputId": "0573bce9-585d-4392-ba8a-ab016d366939"
   },
   "outputs": [
    {
     "data": {
      "text/html": [
       "<div>\n",
       "<style scoped>\n",
       "    .dataframe tbody tr th:only-of-type {\n",
       "        vertical-align: middle;\n",
       "    }\n",
       "\n",
       "    .dataframe tbody tr th {\n",
       "        vertical-align: top;\n",
       "    }\n",
       "\n",
       "    .dataframe thead th {\n",
       "        text-align: right;\n",
       "    }\n",
       "</style>\n",
       "<table border=\"1\" class=\"dataframe\">\n",
       "  <thead>\n",
       "    <tr style=\"text-align: right;\">\n",
       "      <th></th>\n",
       "      <th>mean</th>\n",
       "      <th>std</th>\n",
       "    </tr>\n",
       "  </thead>\n",
       "  <tbody>\n",
       "    <tr>\n",
       "      <th>mean radius</th>\n",
       "      <td>14.127292</td>\n",
       "      <td>3.524049</td>\n",
       "    </tr>\n",
       "    <tr>\n",
       "      <th>mean texture</th>\n",
       "      <td>19.289649</td>\n",
       "      <td>4.301036</td>\n",
       "    </tr>\n",
       "    <tr>\n",
       "      <th>mean perimeter</th>\n",
       "      <td>91.969033</td>\n",
       "      <td>24.298981</td>\n",
       "    </tr>\n",
       "    <tr>\n",
       "      <th>mean area</th>\n",
       "      <td>654.889104</td>\n",
       "      <td>351.914129</td>\n",
       "    </tr>\n",
       "    <tr>\n",
       "      <th>mean smoothness</th>\n",
       "      <td>0.096360</td>\n",
       "      <td>0.014064</td>\n",
       "    </tr>\n",
       "    <tr>\n",
       "      <th>mean compactness</th>\n",
       "      <td>0.104341</td>\n",
       "      <td>0.052813</td>\n",
       "    </tr>\n",
       "    <tr>\n",
       "      <th>mean concavity</th>\n",
       "      <td>0.088799</td>\n",
       "      <td>0.079720</td>\n",
       "    </tr>\n",
       "    <tr>\n",
       "      <th>mean concave points</th>\n",
       "      <td>0.048919</td>\n",
       "      <td>0.038803</td>\n",
       "    </tr>\n",
       "    <tr>\n",
       "      <th>mean symmetry</th>\n",
       "      <td>0.181162</td>\n",
       "      <td>0.027414</td>\n",
       "    </tr>\n",
       "    <tr>\n",
       "      <th>mean fractal dimension</th>\n",
       "      <td>0.062798</td>\n",
       "      <td>0.007060</td>\n",
       "    </tr>\n",
       "  </tbody>\n",
       "</table>\n",
       "</div>"
      ],
      "text/plain": [
       "                              mean         std\n",
       "mean radius              14.127292    3.524049\n",
       "mean texture             19.289649    4.301036\n",
       "mean perimeter           91.969033   24.298981\n",
       "mean area               654.889104  351.914129\n",
       "mean smoothness           0.096360    0.014064\n",
       "mean compactness          0.104341    0.052813\n",
       "mean concavity            0.088799    0.079720\n",
       "mean concave points       0.048919    0.038803\n",
       "mean symmetry             0.181162    0.027414\n",
       "mean fractal dimension    0.062798    0.007060"
      ]
     },
     "execution_count": 7,
     "metadata": {},
     "output_type": "execute_result"
    }
   ],
   "source": [
    "## standardizing rescales features so that they are normally distributed, with a mean of 0 and a std deviation of 1\n",
    " \n",
    "# import the appropriate library\n",
    "from sklearn.preprocessing import StandardScaler\n",
    " \n",
    "# we will transform all the features in the dataset, so let's look at it  prior to transformation\n",
    "mean_std = pd.DataFrame(data={'mean':class_X.mean(), 'std':class_X.std()})\n",
    " \n",
    "# call the dataframe\n",
    "mean_std[0:10]"
   ]
  },
  {
   "cell_type": "code",
   "execution_count": 8,
   "metadata": {
    "colab": {
     "base_uri": "https://localhost:8080/"
    },
    "executionInfo": {
     "elapsed": 2006,
     "status": "ok",
     "timestamp": 1607939666826,
     "user": {
      "displayName": "A J",
      "photoUrl": "https://lh3.googleusercontent.com/a-/AOh14GjZDwFqnFt3HwqF4Wu3Au0RSvls62YjJWudcDUj=s64",
      "userId": "15417262701029927930"
     },
     "user_tz": 0
    },
    "id": "khSirtDXVRAs",
    "outputId": "62717aa5-0cc9-4e3c-e42c-82a68214df2c"
   },
   "outputs": [
    {
     "data": {
      "text/plain": [
       "array([[ 1.09706398e+00, -2.07333501e+00,  1.26993369e+00,\n",
       "         9.84374905e-01,  1.56846633e+00,  3.28351467e+00,\n",
       "         2.65287398e+00,  2.53247522e+00,  2.21751501e+00,\n",
       "         2.25574689e+00,  2.48973393e+00, -5.65265059e-01,\n",
       "         2.83303087e+00,  2.48757756e+00, -2.14001647e-01,\n",
       "         1.31686157e+00,  7.24026158e-01,  6.60819941e-01,\n",
       "         1.14875667e+00,  9.07083081e-01,  1.88668963e+00,\n",
       "        -1.35929347e+00,  2.30360062e+00,  2.00123749e+00,\n",
       "         1.30768627e+00,  2.61666502e+00,  2.10952635e+00,\n",
       "         2.29607613e+00,  2.75062224e+00,  1.93701461e+00],\n",
       "       [ 1.82982061e+00, -3.53632408e-01,  1.68595471e+00,\n",
       "         1.90870825e+00, -8.26962447e-01, -4.87071673e-01,\n",
       "        -2.38458552e-02,  5.48144156e-01,  1.39236330e-03,\n",
       "        -8.68652457e-01,  4.99254601e-01, -8.76243603e-01,\n",
       "         2.63326966e-01,  7.42401948e-01, -6.05350847e-01,\n",
       "        -6.92926270e-01, -4.40780058e-01,  2.60162067e-01,\n",
       "        -8.05450380e-01, -9.94437403e-02,  1.80592744e+00,\n",
       "        -3.69203222e-01,  1.53512599e+00,  1.89048899e+00,\n",
       "        -3.75611957e-01, -4.30444219e-01, -1.46748968e-01,\n",
       "         1.08708430e+00, -2.43889668e-01,  2.81189987e-01],\n",
       "       [ 1.57988811e+00,  4.56186952e-01,  1.56650313e+00,\n",
       "         1.55888363e+00,  9.42210440e-01,  1.05292554e+00,\n",
       "         1.36347845e+00,  2.03723076e+00,  9.39684817e-01,\n",
       "        -3.98007910e-01,  1.22867595e+00, -7.80083377e-01,\n",
       "         8.50928301e-01,  1.18133606e+00, -2.97005012e-01,\n",
       "         8.14973504e-01,  2.13076435e-01,  1.42482747e+00,\n",
       "         2.37035535e-01,  2.93559404e-01,  1.51187025e+00,\n",
       "        -2.39743838e-02,  1.34747521e+00,  1.45628455e+00,\n",
       "         5.27407405e-01,  1.08293217e+00,  8.54973944e-01,\n",
       "         1.95500035e+00,  1.15225500e+00,  2.01391209e-01],\n",
       "       [-7.68909287e-01,  2.53732112e-01, -5.92687167e-01,\n",
       "        -7.64463792e-01,  3.28355348e+00,  3.40290899e+00,\n",
       "         1.91589718e+00,  1.45170736e+00,  2.86738293e+00,\n",
       "         4.91091929e+00,  3.26373441e-01, -1.10409044e-01,\n",
       "         2.86593405e-01, -2.88378148e-01,  6.89701660e-01,\n",
       "         2.74428041e+00,  8.19518384e-01,  1.11500701e+00,\n",
       "         4.73268037e+00,  2.04751088e+00, -2.81464464e-01,\n",
       "         1.33984094e-01, -2.49939304e-01, -5.50021228e-01,\n",
       "         3.39427470e+00,  3.89339743e+00,  1.98958826e+00,\n",
       "         2.17578601e+00,  6.04604135e+00,  4.93501034e+00],\n",
       "       [ 1.75029663e+00, -1.15181643e+00,  1.77657315e+00,\n",
       "         1.82622928e+00,  2.80371830e-01,  5.39340452e-01,\n",
       "         1.37101143e+00,  1.42849277e+00, -9.56046689e-03,\n",
       "        -5.62449981e-01,  1.27054278e+00, -7.90243702e-01,\n",
       "         1.27318941e+00,  1.19035676e+00,  1.48306716e+00,\n",
       "        -4.85198799e-02,  8.28470780e-01,  1.14420474e+00,\n",
       "        -3.61092272e-01,  4.99328134e-01,  1.29857524e+00,\n",
       "        -1.46677038e+00,  1.33853946e+00,  1.22072425e+00,\n",
       "         2.20556166e-01, -3.13394511e-01,  6.13178758e-01,\n",
       "         7.29259257e-01, -8.68352984e-01, -3.97099619e-01],\n",
       "       [-4.76374665e-01, -8.35335303e-01, -3.87148067e-01,\n",
       "        -5.05650454e-01,  2.23742148e+00,  1.24433549e+00,\n",
       "         8.66301596e-01,  8.24655646e-01,  1.00540180e+00,\n",
       "         1.89000504e+00, -2.55070294e-01, -5.92661652e-01,\n",
       "        -3.21304185e-01, -2.89258217e-01,  1.56346702e-01,\n",
       "         4.45543649e-01,  1.60025198e-01, -6.91235537e-02,\n",
       "         1.34118807e-01,  4.86845840e-01, -1.65498247e-01,\n",
       "        -3.13836333e-01, -1.15009456e-01, -2.44320208e-01,\n",
       "         2.04851283e+00,  1.72161644e+00,  1.26324320e+00,\n",
       "         9.05887786e-01,  1.75406939e+00,  2.24180161e+00],\n",
       "       [ 1.17090767e+00,  1.60649427e-01,  1.13812505e+00,\n",
       "         1.09529491e+00, -1.23136226e-01,  8.82952423e-02,\n",
       "         3.00072399e-01,  6.46935108e-01, -6.43246179e-02,\n",
       "        -7.62332153e-01,  1.49883071e-01, -8.04939888e-01,\n",
       "         1.55410293e-01,  2.98627465e-01, -9.09029826e-01,\n",
       "        -6.51568010e-01, -3.10141387e-01, -2.28089026e-01,\n",
       "        -8.29666081e-01, -6.11217806e-01,  1.36898330e+00,\n",
       "         3.22882892e-01,  1.36832530e+00,  1.27521954e+00,\n",
       "         5.18640227e-01,  2.12149800e-02,  5.09552250e-01,\n",
       "         1.19671580e+00,  2.62475664e-01, -1.47304787e-02],\n",
       "       [-1.18516778e-01,  3.58450132e-01, -7.28668396e-02,\n",
       "        -2.18964911e-01,  1.60404905e+00,  1.14010235e+00,\n",
       "         6.10257495e-02,  2.81950258e-01,  1.40335463e+00,\n",
       "         1.66035318e+00,  6.43623001e-01,  2.90560957e-01,\n",
       "         4.90050986e-01,  2.33722421e-01,  5.88030871e-01,\n",
       "         2.68932704e-01, -2.32553954e-01,  4.35348506e-01,\n",
       "        -6.88004232e-01,  6.11668783e-01,  1.63762976e-01,\n",
       "         4.01047912e-01,  9.94485804e-02,  2.88594274e-02,\n",
       "         1.44796112e+00,  7.24785507e-01, -2.10538519e-02,\n",
       "         6.24195735e-01,  4.77640485e-01,  1.72643451e+00],\n",
       "       [-3.20166857e-01,  5.88829778e-01, -1.84080380e-01,\n",
       "        -3.84207273e-01,  2.20183876e+00,  1.68400981e+00,\n",
       "         1.21909628e+00,  1.15069158e+00,  1.96559991e+00,\n",
       "         1.57246173e+00, -3.56850016e-01, -3.89818004e-01,\n",
       "        -2.27743400e-01, -3.52403123e-01, -4.36677342e-01,\n",
       "         5.33290226e-01,  1.20568341e-01,  7.52430487e-02,\n",
       "         1.07481537e-01, -1.73631991e-02, -1.61356597e-01,\n",
       "         8.22813332e-01, -3.16091086e-02, -2.48363407e-01,\n",
       "         1.66275699e+00,  1.81830968e+00,  1.28003453e+00,\n",
       "         1.39161624e+00,  2.38985717e+00,  1.28864955e+00],\n",
       "       [-4.73534523e-01,  1.10543868e+00, -3.29481787e-01,\n",
       "        -5.09063378e-01,  1.58269942e+00,  2.56335845e+00,\n",
       "         1.73887209e+00,  9.41760326e-01,  7.97298024e-01,\n",
       "         2.78309559e+00, -3.88250143e-01,  6.93345302e-01,\n",
       "        -4.09419634e-01, -3.60763773e-01,  3.60084898e-02,\n",
       "         2.60958662e+00,  1.50984760e+00,  4.09394960e-01,\n",
       "        -3.21136366e-01,  2.37734605e+00, -2.44189609e-01,\n",
       "         2.44310906e+00, -2.86278027e-01, -2.97409172e-01,\n",
       "         2.32029536e+00,  5.11287727e+00,  3.99543285e+00,\n",
       "         1.62001520e+00,  2.37044380e+00,  6.84685604e+00]])"
      ]
     },
     "execution_count": 8,
     "metadata": {},
     "output_type": "execute_result"
    }
   ],
   "source": [
    "# Create scaler\n",
    "scaler = StandardScaler()\n",
    " \n",
    "# fit the scaler - this calculates the minimum and maximum values of the data\n",
    "scaler.fit(class_X)\n",
    " \n",
    "# transform the data using the fitted scaler - this applies the transform using the fit\n",
    "standardized = scaler.transform(class_X)\n",
    " \n",
    "# this shows the features transformed - note that this returns an array not a dataframe\n",
    "standardized[0:10]"
   ]
  },
  {
   "cell_type": "code",
   "execution_count": 9,
   "metadata": {
    "colab": {
     "base_uri": "https://localhost:8080/",
     "height": 359
    },
    "executionInfo": {
     "elapsed": 1993,
     "status": "ok",
     "timestamp": 1607939666835,
     "user": {
      "displayName": "A J",
      "photoUrl": "https://lh3.googleusercontent.com/a-/AOh14GjZDwFqnFt3HwqF4Wu3Au0RSvls62YjJWudcDUj=s64",
      "userId": "15417262701029927930"
     },
     "user_tz": 0
    },
    "id": "gIRzFhg0X_cA",
    "outputId": "7b8ca8ca-450d-44b4-f524-9fd1d33b342c"
   },
   "outputs": [
    {
     "data": {
      "text/html": [
       "<div>\n",
       "<style scoped>\n",
       "    .dataframe tbody tr th:only-of-type {\n",
       "        vertical-align: middle;\n",
       "    }\n",
       "\n",
       "    .dataframe tbody tr th {\n",
       "        vertical-align: top;\n",
       "    }\n",
       "\n",
       "    .dataframe thead th {\n",
       "        text-align: right;\n",
       "    }\n",
       "</style>\n",
       "<table border=\"1\" class=\"dataframe\">\n",
       "  <thead>\n",
       "    <tr style=\"text-align: right;\">\n",
       "      <th></th>\n",
       "      <th>mean</th>\n",
       "      <th>std</th>\n",
       "    </tr>\n",
       "  </thead>\n",
       "  <tbody>\n",
       "    <tr>\n",
       "      <th>mean radius</th>\n",
       "      <td>-3.162867e-15</td>\n",
       "      <td>1.0</td>\n",
       "    </tr>\n",
       "    <tr>\n",
       "      <th>mean texture</th>\n",
       "      <td>-6.530609e-15</td>\n",
       "      <td>1.0</td>\n",
       "    </tr>\n",
       "    <tr>\n",
       "      <th>mean perimeter</th>\n",
       "      <td>-7.078891e-16</td>\n",
       "      <td>1.0</td>\n",
       "    </tr>\n",
       "    <tr>\n",
       "      <th>mean area</th>\n",
       "      <td>-8.799835e-16</td>\n",
       "      <td>1.0</td>\n",
       "    </tr>\n",
       "    <tr>\n",
       "      <th>mean smoothness</th>\n",
       "      <td>6.132177e-15</td>\n",
       "      <td>1.0</td>\n",
       "    </tr>\n",
       "    <tr>\n",
       "      <th>mean compactness</th>\n",
       "      <td>-1.120369e-15</td>\n",
       "      <td>1.0</td>\n",
       "    </tr>\n",
       "    <tr>\n",
       "      <th>mean concavity</th>\n",
       "      <td>-4.421380e-16</td>\n",
       "      <td>1.0</td>\n",
       "    </tr>\n",
       "    <tr>\n",
       "      <th>mean concave points</th>\n",
       "      <td>9.732500e-16</td>\n",
       "      <td>1.0</td>\n",
       "    </tr>\n",
       "    <tr>\n",
       "      <th>mean symmetry</th>\n",
       "      <td>-1.971670e-15</td>\n",
       "      <td>1.0</td>\n",
       "    </tr>\n",
       "    <tr>\n",
       "      <th>mean fractal dimension</th>\n",
       "      <td>-1.453631e-15</td>\n",
       "      <td>1.0</td>\n",
       "    </tr>\n",
       "  </tbody>\n",
       "</table>\n",
       "</div>"
      ],
      "text/plain": [
       "                                mean  std\n",
       "mean radius            -3.162867e-15  1.0\n",
       "mean texture           -6.530609e-15  1.0\n",
       "mean perimeter         -7.078891e-16  1.0\n",
       "mean area              -8.799835e-16  1.0\n",
       "mean smoothness         6.132177e-15  1.0\n",
       "mean compactness       -1.120369e-15  1.0\n",
       "mean concavity         -4.421380e-16  1.0\n",
       "mean concave points     9.732500e-16  1.0\n",
       "mean symmetry          -1.971670e-15  1.0\n",
       "mean fractal dimension -1.453631e-15  1.0"
      ]
     },
     "execution_count": 9,
     "metadata": {},
     "output_type": "execute_result"
    }
   ],
   "source": [
    "# lets have another look at our transformed data\n",
    "mean_std_transformed = pd.DataFrame(data={'mean':standardized.mean(axis=0), 'std':standardized.std(axis=0)}, index=class_X.columns)\n",
    " \n",
    "# call the dataframe\n",
    "mean_std_transformed[0:10]"
   ]
  },
  {
   "cell_type": "markdown",
   "metadata": {
    "id": "WS2xLaapj-xV"
   },
   "source": [
    "### EXERCISE SECTION 2: \n",
    "* Apply the `Rescaling` and `Standardization` functions to one or more features of the `Boston` dataset\n",
    "* Research and implement a `Normalizer` function\n",
    "* Have a think about what circumstances each of these functions might be most appropriate to apply to different data and why \n",
    "* We can discuss the implementations and benefits of each approach on Teams "
   ]
  },
  {
   "cell_type": "markdown",
   "metadata": {},
   "source": [
    "* Apply the `Rescaling` and `Standardization` functions to one or more features of the `Boston` dataset"
   ]
  },
  {
   "cell_type": "code",
   "execution_count": 10,
   "metadata": {
    "executionInfo": {
     "elapsed": 1984,
     "status": "ok",
     "timestamp": 1607939666838,
     "user": {
      "displayName": "A J",
      "photoUrl": "https://lh3.googleusercontent.com/a-/AOh14GjZDwFqnFt3HwqF4Wu3Au0RSvls62YjJWudcDUj=s64",
      "userId": "15417262701029927930"
     },
     "user_tz": 0
    },
    "id": "KK0B4ANXmQiE",
    "scrolled": false
   },
   "outputs": [
    {
     "name": "stdout",
     "output_type": "stream",
     "text": [
      "****Rescaling & Standardization of boston dataset****\n",
      "Features Prior to Rescaling & Standardization:\n"
     ]
    },
    {
     "data": {
      "text/html": [
       "<div>\n",
       "<style scoped>\n",
       "    .dataframe tbody tr th:only-of-type {\n",
       "        vertical-align: middle;\n",
       "    }\n",
       "\n",
       "    .dataframe tbody tr th {\n",
       "        vertical-align: top;\n",
       "    }\n",
       "\n",
       "    .dataframe thead th {\n",
       "        text-align: right;\n",
       "    }\n",
       "</style>\n",
       "<table border=\"1\" class=\"dataframe\">\n",
       "  <thead>\n",
       "    <tr style=\"text-align: right;\">\n",
       "      <th></th>\n",
       "      <th>CRIM</th>\n",
       "      <th>ZN</th>\n",
       "      <th>INDUS</th>\n",
       "      <th>CHAS</th>\n",
       "      <th>NOX</th>\n",
       "      <th>RM</th>\n",
       "      <th>AGE</th>\n",
       "      <th>DIS</th>\n",
       "      <th>RAD</th>\n",
       "      <th>TAX</th>\n",
       "      <th>PTRATIO</th>\n",
       "      <th>B</th>\n",
       "      <th>LSTAT</th>\n",
       "    </tr>\n",
       "  </thead>\n",
       "  <tbody>\n",
       "    <tr>\n",
       "      <th>0</th>\n",
       "      <td>0.00632</td>\n",
       "      <td>18.0</td>\n",
       "      <td>2.31</td>\n",
       "      <td>0.0</td>\n",
       "      <td>0.538</td>\n",
       "      <td>6.575</td>\n",
       "      <td>65.2</td>\n",
       "      <td>4.0900</td>\n",
       "      <td>1.0</td>\n",
       "      <td>296.0</td>\n",
       "      <td>15.3</td>\n",
       "      <td>396.90</td>\n",
       "      <td>4.98</td>\n",
       "    </tr>\n",
       "    <tr>\n",
       "      <th>1</th>\n",
       "      <td>0.02731</td>\n",
       "      <td>0.0</td>\n",
       "      <td>7.07</td>\n",
       "      <td>0.0</td>\n",
       "      <td>0.469</td>\n",
       "      <td>6.421</td>\n",
       "      <td>78.9</td>\n",
       "      <td>4.9671</td>\n",
       "      <td>2.0</td>\n",
       "      <td>242.0</td>\n",
       "      <td>17.8</td>\n",
       "      <td>396.90</td>\n",
       "      <td>9.14</td>\n",
       "    </tr>\n",
       "    <tr>\n",
       "      <th>2</th>\n",
       "      <td>0.02729</td>\n",
       "      <td>0.0</td>\n",
       "      <td>7.07</td>\n",
       "      <td>0.0</td>\n",
       "      <td>0.469</td>\n",
       "      <td>7.185</td>\n",
       "      <td>61.1</td>\n",
       "      <td>4.9671</td>\n",
       "      <td>2.0</td>\n",
       "      <td>242.0</td>\n",
       "      <td>17.8</td>\n",
       "      <td>392.83</td>\n",
       "      <td>4.03</td>\n",
       "    </tr>\n",
       "    <tr>\n",
       "      <th>3</th>\n",
       "      <td>0.03237</td>\n",
       "      <td>0.0</td>\n",
       "      <td>2.18</td>\n",
       "      <td>0.0</td>\n",
       "      <td>0.458</td>\n",
       "      <td>6.998</td>\n",
       "      <td>45.8</td>\n",
       "      <td>6.0622</td>\n",
       "      <td>3.0</td>\n",
       "      <td>222.0</td>\n",
       "      <td>18.7</td>\n",
       "      <td>394.63</td>\n",
       "      <td>2.94</td>\n",
       "    </tr>\n",
       "    <tr>\n",
       "      <th>4</th>\n",
       "      <td>0.06905</td>\n",
       "      <td>0.0</td>\n",
       "      <td>2.18</td>\n",
       "      <td>0.0</td>\n",
       "      <td>0.458</td>\n",
       "      <td>7.147</td>\n",
       "      <td>54.2</td>\n",
       "      <td>6.0622</td>\n",
       "      <td>3.0</td>\n",
       "      <td>222.0</td>\n",
       "      <td>18.7</td>\n",
       "      <td>396.90</td>\n",
       "      <td>5.33</td>\n",
       "    </tr>\n",
       "    <tr>\n",
       "      <th>...</th>\n",
       "      <td>...</td>\n",
       "      <td>...</td>\n",
       "      <td>...</td>\n",
       "      <td>...</td>\n",
       "      <td>...</td>\n",
       "      <td>...</td>\n",
       "      <td>...</td>\n",
       "      <td>...</td>\n",
       "      <td>...</td>\n",
       "      <td>...</td>\n",
       "      <td>...</td>\n",
       "      <td>...</td>\n",
       "      <td>...</td>\n",
       "    </tr>\n",
       "    <tr>\n",
       "      <th>501</th>\n",
       "      <td>0.06263</td>\n",
       "      <td>0.0</td>\n",
       "      <td>11.93</td>\n",
       "      <td>0.0</td>\n",
       "      <td>0.573</td>\n",
       "      <td>6.593</td>\n",
       "      <td>69.1</td>\n",
       "      <td>2.4786</td>\n",
       "      <td>1.0</td>\n",
       "      <td>273.0</td>\n",
       "      <td>21.0</td>\n",
       "      <td>391.99</td>\n",
       "      <td>9.67</td>\n",
       "    </tr>\n",
       "    <tr>\n",
       "      <th>502</th>\n",
       "      <td>0.04527</td>\n",
       "      <td>0.0</td>\n",
       "      <td>11.93</td>\n",
       "      <td>0.0</td>\n",
       "      <td>0.573</td>\n",
       "      <td>6.120</td>\n",
       "      <td>76.7</td>\n",
       "      <td>2.2875</td>\n",
       "      <td>1.0</td>\n",
       "      <td>273.0</td>\n",
       "      <td>21.0</td>\n",
       "      <td>396.90</td>\n",
       "      <td>9.08</td>\n",
       "    </tr>\n",
       "    <tr>\n",
       "      <th>503</th>\n",
       "      <td>0.06076</td>\n",
       "      <td>0.0</td>\n",
       "      <td>11.93</td>\n",
       "      <td>0.0</td>\n",
       "      <td>0.573</td>\n",
       "      <td>6.976</td>\n",
       "      <td>91.0</td>\n",
       "      <td>2.1675</td>\n",
       "      <td>1.0</td>\n",
       "      <td>273.0</td>\n",
       "      <td>21.0</td>\n",
       "      <td>396.90</td>\n",
       "      <td>5.64</td>\n",
       "    </tr>\n",
       "    <tr>\n",
       "      <th>504</th>\n",
       "      <td>0.10959</td>\n",
       "      <td>0.0</td>\n",
       "      <td>11.93</td>\n",
       "      <td>0.0</td>\n",
       "      <td>0.573</td>\n",
       "      <td>6.794</td>\n",
       "      <td>89.3</td>\n",
       "      <td>2.3889</td>\n",
       "      <td>1.0</td>\n",
       "      <td>273.0</td>\n",
       "      <td>21.0</td>\n",
       "      <td>393.45</td>\n",
       "      <td>6.48</td>\n",
       "    </tr>\n",
       "    <tr>\n",
       "      <th>505</th>\n",
       "      <td>0.04741</td>\n",
       "      <td>0.0</td>\n",
       "      <td>11.93</td>\n",
       "      <td>0.0</td>\n",
       "      <td>0.573</td>\n",
       "      <td>6.030</td>\n",
       "      <td>80.8</td>\n",
       "      <td>2.5050</td>\n",
       "      <td>1.0</td>\n",
       "      <td>273.0</td>\n",
       "      <td>21.0</td>\n",
       "      <td>396.90</td>\n",
       "      <td>7.88</td>\n",
       "    </tr>\n",
       "  </tbody>\n",
       "</table>\n",
       "<p>506 rows × 13 columns</p>\n",
       "</div>"
      ],
      "text/plain": [
       "        CRIM    ZN  INDUS  CHAS    NOX     RM   AGE     DIS  RAD    TAX  \\\n",
       "0    0.00632  18.0   2.31   0.0  0.538  6.575  65.2  4.0900  1.0  296.0   \n",
       "1    0.02731   0.0   7.07   0.0  0.469  6.421  78.9  4.9671  2.0  242.0   \n",
       "2    0.02729   0.0   7.07   0.0  0.469  7.185  61.1  4.9671  2.0  242.0   \n",
       "3    0.03237   0.0   2.18   0.0  0.458  6.998  45.8  6.0622  3.0  222.0   \n",
       "4    0.06905   0.0   2.18   0.0  0.458  7.147  54.2  6.0622  3.0  222.0   \n",
       "..       ...   ...    ...   ...    ...    ...   ...     ...  ...    ...   \n",
       "501  0.06263   0.0  11.93   0.0  0.573  6.593  69.1  2.4786  1.0  273.0   \n",
       "502  0.04527   0.0  11.93   0.0  0.573  6.120  76.7  2.2875  1.0  273.0   \n",
       "503  0.06076   0.0  11.93   0.0  0.573  6.976  91.0  2.1675  1.0  273.0   \n",
       "504  0.10959   0.0  11.93   0.0  0.573  6.794  89.3  2.3889  1.0  273.0   \n",
       "505  0.04741   0.0  11.93   0.0  0.573  6.030  80.8  2.5050  1.0  273.0   \n",
       "\n",
       "     PTRATIO       B  LSTAT  \n",
       "0       15.3  396.90   4.98  \n",
       "1       17.8  396.90   9.14  \n",
       "2       17.8  392.83   4.03  \n",
       "3       18.7  394.63   2.94  \n",
       "4       18.7  396.90   5.33  \n",
       "..       ...     ...    ...  \n",
       "501     21.0  391.99   9.67  \n",
       "502     21.0  396.90   9.08  \n",
       "503     21.0  396.90   5.64  \n",
       "504     21.0  393.45   6.48  \n",
       "505     21.0  396.90   7.88  \n",
       "\n",
       "[506 rows x 13 columns]"
      ]
     },
     "metadata": {},
     "output_type": "display_data"
    },
    {
     "name": "stdout",
     "output_type": "stream",
     "text": [
      "Features after minmax rescaling:\n",
      "\n"
     ]
    },
    {
     "data": {
      "text/html": [
       "<div>\n",
       "<style scoped>\n",
       "    .dataframe tbody tr th:only-of-type {\n",
       "        vertical-align: middle;\n",
       "    }\n",
       "\n",
       "    .dataframe tbody tr th {\n",
       "        vertical-align: top;\n",
       "    }\n",
       "\n",
       "    .dataframe thead th {\n",
       "        text-align: right;\n",
       "    }\n",
       "</style>\n",
       "<table border=\"1\" class=\"dataframe\">\n",
       "  <thead>\n",
       "    <tr style=\"text-align: right;\">\n",
       "      <th></th>\n",
       "      <th>CRIM</th>\n",
       "      <th>ZN</th>\n",
       "      <th>INDUS</th>\n",
       "      <th>CHAS</th>\n",
       "      <th>NOX</th>\n",
       "      <th>RM</th>\n",
       "      <th>AGE</th>\n",
       "      <th>DIS</th>\n",
       "      <th>RAD</th>\n",
       "      <th>TAX</th>\n",
       "      <th>PTRATIO</th>\n",
       "      <th>B</th>\n",
       "      <th>LSTAT</th>\n",
       "    </tr>\n",
       "  </thead>\n",
       "  <tbody>\n",
       "    <tr>\n",
       "      <th>0</th>\n",
       "      <td>0.000000</td>\n",
       "      <td>0.18</td>\n",
       "      <td>0.067815</td>\n",
       "      <td>0.0</td>\n",
       "      <td>0.314815</td>\n",
       "      <td>0.577505</td>\n",
       "      <td>0.641607</td>\n",
       "      <td>0.269203</td>\n",
       "      <td>0.000000</td>\n",
       "      <td>0.208015</td>\n",
       "      <td>0.287234</td>\n",
       "      <td>1.000000</td>\n",
       "      <td>0.089680</td>\n",
       "    </tr>\n",
       "    <tr>\n",
       "      <th>1</th>\n",
       "      <td>0.000236</td>\n",
       "      <td>0.00</td>\n",
       "      <td>0.242302</td>\n",
       "      <td>0.0</td>\n",
       "      <td>0.172840</td>\n",
       "      <td>0.547998</td>\n",
       "      <td>0.782698</td>\n",
       "      <td>0.348962</td>\n",
       "      <td>0.043478</td>\n",
       "      <td>0.104962</td>\n",
       "      <td>0.553191</td>\n",
       "      <td>1.000000</td>\n",
       "      <td>0.204470</td>\n",
       "    </tr>\n",
       "    <tr>\n",
       "      <th>2</th>\n",
       "      <td>0.000236</td>\n",
       "      <td>0.00</td>\n",
       "      <td>0.242302</td>\n",
       "      <td>0.0</td>\n",
       "      <td>0.172840</td>\n",
       "      <td>0.694386</td>\n",
       "      <td>0.599382</td>\n",
       "      <td>0.348962</td>\n",
       "      <td>0.043478</td>\n",
       "      <td>0.104962</td>\n",
       "      <td>0.553191</td>\n",
       "      <td>0.989737</td>\n",
       "      <td>0.063466</td>\n",
       "    </tr>\n",
       "    <tr>\n",
       "      <th>3</th>\n",
       "      <td>0.000293</td>\n",
       "      <td>0.00</td>\n",
       "      <td>0.063050</td>\n",
       "      <td>0.0</td>\n",
       "      <td>0.150206</td>\n",
       "      <td>0.658555</td>\n",
       "      <td>0.441813</td>\n",
       "      <td>0.448545</td>\n",
       "      <td>0.086957</td>\n",
       "      <td>0.066794</td>\n",
       "      <td>0.648936</td>\n",
       "      <td>0.994276</td>\n",
       "      <td>0.033389</td>\n",
       "    </tr>\n",
       "    <tr>\n",
       "      <th>4</th>\n",
       "      <td>0.000705</td>\n",
       "      <td>0.00</td>\n",
       "      <td>0.063050</td>\n",
       "      <td>0.0</td>\n",
       "      <td>0.150206</td>\n",
       "      <td>0.687105</td>\n",
       "      <td>0.528321</td>\n",
       "      <td>0.448545</td>\n",
       "      <td>0.086957</td>\n",
       "      <td>0.066794</td>\n",
       "      <td>0.648936</td>\n",
       "      <td>1.000000</td>\n",
       "      <td>0.099338</td>\n",
       "    </tr>\n",
       "    <tr>\n",
       "      <th>...</th>\n",
       "      <td>...</td>\n",
       "      <td>...</td>\n",
       "      <td>...</td>\n",
       "      <td>...</td>\n",
       "      <td>...</td>\n",
       "      <td>...</td>\n",
       "      <td>...</td>\n",
       "      <td>...</td>\n",
       "      <td>...</td>\n",
       "      <td>...</td>\n",
       "      <td>...</td>\n",
       "      <td>...</td>\n",
       "      <td>...</td>\n",
       "    </tr>\n",
       "    <tr>\n",
       "      <th>501</th>\n",
       "      <td>0.000633</td>\n",
       "      <td>0.00</td>\n",
       "      <td>0.420455</td>\n",
       "      <td>0.0</td>\n",
       "      <td>0.386831</td>\n",
       "      <td>0.580954</td>\n",
       "      <td>0.681771</td>\n",
       "      <td>0.122671</td>\n",
       "      <td>0.000000</td>\n",
       "      <td>0.164122</td>\n",
       "      <td>0.893617</td>\n",
       "      <td>0.987619</td>\n",
       "      <td>0.219095</td>\n",
       "    </tr>\n",
       "    <tr>\n",
       "      <th>502</th>\n",
       "      <td>0.000438</td>\n",
       "      <td>0.00</td>\n",
       "      <td>0.420455</td>\n",
       "      <td>0.0</td>\n",
       "      <td>0.386831</td>\n",
       "      <td>0.490324</td>\n",
       "      <td>0.760041</td>\n",
       "      <td>0.105293</td>\n",
       "      <td>0.000000</td>\n",
       "      <td>0.164122</td>\n",
       "      <td>0.893617</td>\n",
       "      <td>1.000000</td>\n",
       "      <td>0.202815</td>\n",
       "    </tr>\n",
       "    <tr>\n",
       "      <th>503</th>\n",
       "      <td>0.000612</td>\n",
       "      <td>0.00</td>\n",
       "      <td>0.420455</td>\n",
       "      <td>0.0</td>\n",
       "      <td>0.386831</td>\n",
       "      <td>0.654340</td>\n",
       "      <td>0.907312</td>\n",
       "      <td>0.094381</td>\n",
       "      <td>0.000000</td>\n",
       "      <td>0.164122</td>\n",
       "      <td>0.893617</td>\n",
       "      <td>1.000000</td>\n",
       "      <td>0.107892</td>\n",
       "    </tr>\n",
       "    <tr>\n",
       "      <th>504</th>\n",
       "      <td>0.001161</td>\n",
       "      <td>0.00</td>\n",
       "      <td>0.420455</td>\n",
       "      <td>0.0</td>\n",
       "      <td>0.386831</td>\n",
       "      <td>0.619467</td>\n",
       "      <td>0.889804</td>\n",
       "      <td>0.114514</td>\n",
       "      <td>0.000000</td>\n",
       "      <td>0.164122</td>\n",
       "      <td>0.893617</td>\n",
       "      <td>0.991301</td>\n",
       "      <td>0.131071</td>\n",
       "    </tr>\n",
       "    <tr>\n",
       "      <th>505</th>\n",
       "      <td>0.000462</td>\n",
       "      <td>0.00</td>\n",
       "      <td>0.420455</td>\n",
       "      <td>0.0</td>\n",
       "      <td>0.386831</td>\n",
       "      <td>0.473079</td>\n",
       "      <td>0.802266</td>\n",
       "      <td>0.125072</td>\n",
       "      <td>0.000000</td>\n",
       "      <td>0.164122</td>\n",
       "      <td>0.893617</td>\n",
       "      <td>1.000000</td>\n",
       "      <td>0.169702</td>\n",
       "    </tr>\n",
       "  </tbody>\n",
       "</table>\n",
       "<p>506 rows × 13 columns</p>\n",
       "</div>"
      ],
      "text/plain": [
       "         CRIM    ZN     INDUS  CHAS       NOX        RM       AGE       DIS  \\\n",
       "0    0.000000  0.18  0.067815   0.0  0.314815  0.577505  0.641607  0.269203   \n",
       "1    0.000236  0.00  0.242302   0.0  0.172840  0.547998  0.782698  0.348962   \n",
       "2    0.000236  0.00  0.242302   0.0  0.172840  0.694386  0.599382  0.348962   \n",
       "3    0.000293  0.00  0.063050   0.0  0.150206  0.658555  0.441813  0.448545   \n",
       "4    0.000705  0.00  0.063050   0.0  0.150206  0.687105  0.528321  0.448545   \n",
       "..        ...   ...       ...   ...       ...       ...       ...       ...   \n",
       "501  0.000633  0.00  0.420455   0.0  0.386831  0.580954  0.681771  0.122671   \n",
       "502  0.000438  0.00  0.420455   0.0  0.386831  0.490324  0.760041  0.105293   \n",
       "503  0.000612  0.00  0.420455   0.0  0.386831  0.654340  0.907312  0.094381   \n",
       "504  0.001161  0.00  0.420455   0.0  0.386831  0.619467  0.889804  0.114514   \n",
       "505  0.000462  0.00  0.420455   0.0  0.386831  0.473079  0.802266  0.125072   \n",
       "\n",
       "          RAD       TAX   PTRATIO         B     LSTAT  \n",
       "0    0.000000  0.208015  0.287234  1.000000  0.089680  \n",
       "1    0.043478  0.104962  0.553191  1.000000  0.204470  \n",
       "2    0.043478  0.104962  0.553191  0.989737  0.063466  \n",
       "3    0.086957  0.066794  0.648936  0.994276  0.033389  \n",
       "4    0.086957  0.066794  0.648936  1.000000  0.099338  \n",
       "..        ...       ...       ...       ...       ...  \n",
       "501  0.000000  0.164122  0.893617  0.987619  0.219095  \n",
       "502  0.000000  0.164122  0.893617  1.000000  0.202815  \n",
       "503  0.000000  0.164122  0.893617  1.000000  0.107892  \n",
       "504  0.000000  0.164122  0.893617  0.991301  0.131071  \n",
       "505  0.000000  0.164122  0.893617  1.000000  0.169702  \n",
       "\n",
       "[506 rows x 13 columns]"
      ]
     },
     "metadata": {},
     "output_type": "display_data"
    },
    {
     "data": {
      "text/html": [
       "<div>\n",
       "<style scoped>\n",
       "    .dataframe tbody tr th:only-of-type {\n",
       "        vertical-align: middle;\n",
       "    }\n",
       "\n",
       "    .dataframe tbody tr th {\n",
       "        vertical-align: top;\n",
       "    }\n",
       "\n",
       "    .dataframe thead th {\n",
       "        text-align: right;\n",
       "    }\n",
       "</style>\n",
       "<table border=\"1\" class=\"dataframe\">\n",
       "  <thead>\n",
       "    <tr style=\"text-align: right;\">\n",
       "      <th></th>\n",
       "      <th>min</th>\n",
       "      <th>max</th>\n",
       "    </tr>\n",
       "  </thead>\n",
       "  <tbody>\n",
       "    <tr>\n",
       "      <th>CRIM</th>\n",
       "      <td>0.0</td>\n",
       "      <td>1.0</td>\n",
       "    </tr>\n",
       "    <tr>\n",
       "      <th>ZN</th>\n",
       "      <td>0.0</td>\n",
       "      <td>1.0</td>\n",
       "    </tr>\n",
       "    <tr>\n",
       "      <th>INDUS</th>\n",
       "      <td>0.0</td>\n",
       "      <td>1.0</td>\n",
       "    </tr>\n",
       "    <tr>\n",
       "      <th>CHAS</th>\n",
       "      <td>0.0</td>\n",
       "      <td>1.0</td>\n",
       "    </tr>\n",
       "    <tr>\n",
       "      <th>NOX</th>\n",
       "      <td>0.0</td>\n",
       "      <td>1.0</td>\n",
       "    </tr>\n",
       "    <tr>\n",
       "      <th>RM</th>\n",
       "      <td>0.0</td>\n",
       "      <td>1.0</td>\n",
       "    </tr>\n",
       "    <tr>\n",
       "      <th>AGE</th>\n",
       "      <td>0.0</td>\n",
       "      <td>1.0</td>\n",
       "    </tr>\n",
       "    <tr>\n",
       "      <th>DIS</th>\n",
       "      <td>0.0</td>\n",
       "      <td>1.0</td>\n",
       "    </tr>\n",
       "    <tr>\n",
       "      <th>RAD</th>\n",
       "      <td>0.0</td>\n",
       "      <td>1.0</td>\n",
       "    </tr>\n",
       "    <tr>\n",
       "      <th>TAX</th>\n",
       "      <td>0.0</td>\n",
       "      <td>1.0</td>\n",
       "    </tr>\n",
       "    <tr>\n",
       "      <th>PTRATIO</th>\n",
       "      <td>0.0</td>\n",
       "      <td>1.0</td>\n",
       "    </tr>\n",
       "    <tr>\n",
       "      <th>B</th>\n",
       "      <td>0.0</td>\n",
       "      <td>1.0</td>\n",
       "    </tr>\n",
       "    <tr>\n",
       "      <th>LSTAT</th>\n",
       "      <td>0.0</td>\n",
       "      <td>1.0</td>\n",
       "    </tr>\n",
       "  </tbody>\n",
       "</table>\n",
       "</div>"
      ],
      "text/plain": [
       "         min  max\n",
       "CRIM     0.0  1.0\n",
       "ZN       0.0  1.0\n",
       "INDUS    0.0  1.0\n",
       "CHAS     0.0  1.0\n",
       "NOX      0.0  1.0\n",
       "RM       0.0  1.0\n",
       "AGE      0.0  1.0\n",
       "DIS      0.0  1.0\n",
       "RAD      0.0  1.0\n",
       "TAX      0.0  1.0\n",
       "PTRATIO  0.0  1.0\n",
       "B        0.0  1.0\n",
       "LSTAT    0.0  1.0"
      ]
     },
     "metadata": {},
     "output_type": "display_data"
    },
    {
     "name": "stdout",
     "output_type": "stream",
     "text": [
      "Features after Standardization:\n"
     ]
    },
    {
     "data": {
      "text/html": [
       "<div>\n",
       "<style scoped>\n",
       "    .dataframe tbody tr th:only-of-type {\n",
       "        vertical-align: middle;\n",
       "    }\n",
       "\n",
       "    .dataframe tbody tr th {\n",
       "        vertical-align: top;\n",
       "    }\n",
       "\n",
       "    .dataframe thead th {\n",
       "        text-align: right;\n",
       "    }\n",
       "</style>\n",
       "<table border=\"1\" class=\"dataframe\">\n",
       "  <thead>\n",
       "    <tr style=\"text-align: right;\">\n",
       "      <th></th>\n",
       "      <th>CRIM</th>\n",
       "      <th>ZN</th>\n",
       "      <th>INDUS</th>\n",
       "      <th>CHAS</th>\n",
       "      <th>NOX</th>\n",
       "      <th>RM</th>\n",
       "      <th>AGE</th>\n",
       "      <th>DIS</th>\n",
       "      <th>RAD</th>\n",
       "      <th>TAX</th>\n",
       "      <th>PTRATIO</th>\n",
       "      <th>B</th>\n",
       "      <th>LSTAT</th>\n",
       "    </tr>\n",
       "  </thead>\n",
       "  <tbody>\n",
       "    <tr>\n",
       "      <th>0</th>\n",
       "      <td>-0.419782</td>\n",
       "      <td>0.284830</td>\n",
       "      <td>-1.287909</td>\n",
       "      <td>-0.272599</td>\n",
       "      <td>-0.144217</td>\n",
       "      <td>0.413672</td>\n",
       "      <td>-0.120013</td>\n",
       "      <td>0.140214</td>\n",
       "      <td>-0.982843</td>\n",
       "      <td>-0.666608</td>\n",
       "      <td>-1.459000</td>\n",
       "      <td>0.441052</td>\n",
       "      <td>-1.075562</td>\n",
       "    </tr>\n",
       "    <tr>\n",
       "      <th>1</th>\n",
       "      <td>-0.417339</td>\n",
       "      <td>-0.487722</td>\n",
       "      <td>-0.593381</td>\n",
       "      <td>-0.272599</td>\n",
       "      <td>-0.740262</td>\n",
       "      <td>0.194274</td>\n",
       "      <td>0.367166</td>\n",
       "      <td>0.557160</td>\n",
       "      <td>-0.867883</td>\n",
       "      <td>-0.987329</td>\n",
       "      <td>-0.303094</td>\n",
       "      <td>0.441052</td>\n",
       "      <td>-0.492439</td>\n",
       "    </tr>\n",
       "    <tr>\n",
       "      <th>2</th>\n",
       "      <td>-0.417342</td>\n",
       "      <td>-0.487722</td>\n",
       "      <td>-0.593381</td>\n",
       "      <td>-0.272599</td>\n",
       "      <td>-0.740262</td>\n",
       "      <td>1.282714</td>\n",
       "      <td>-0.265812</td>\n",
       "      <td>0.557160</td>\n",
       "      <td>-0.867883</td>\n",
       "      <td>-0.987329</td>\n",
       "      <td>-0.303094</td>\n",
       "      <td>0.396427</td>\n",
       "      <td>-1.208727</td>\n",
       "    </tr>\n",
       "    <tr>\n",
       "      <th>3</th>\n",
       "      <td>-0.416750</td>\n",
       "      <td>-0.487722</td>\n",
       "      <td>-1.306878</td>\n",
       "      <td>-0.272599</td>\n",
       "      <td>-0.835284</td>\n",
       "      <td>1.016303</td>\n",
       "      <td>-0.809889</td>\n",
       "      <td>1.077737</td>\n",
       "      <td>-0.752922</td>\n",
       "      <td>-1.106115</td>\n",
       "      <td>0.113032</td>\n",
       "      <td>0.416163</td>\n",
       "      <td>-1.361517</td>\n",
       "    </tr>\n",
       "    <tr>\n",
       "      <th>4</th>\n",
       "      <td>-0.412482</td>\n",
       "      <td>-0.487722</td>\n",
       "      <td>-1.306878</td>\n",
       "      <td>-0.272599</td>\n",
       "      <td>-0.835284</td>\n",
       "      <td>1.228577</td>\n",
       "      <td>-0.511180</td>\n",
       "      <td>1.077737</td>\n",
       "      <td>-0.752922</td>\n",
       "      <td>-1.106115</td>\n",
       "      <td>0.113032</td>\n",
       "      <td>0.441052</td>\n",
       "      <td>-1.026501</td>\n",
       "    </tr>\n",
       "    <tr>\n",
       "      <th>...</th>\n",
       "      <td>...</td>\n",
       "      <td>...</td>\n",
       "      <td>...</td>\n",
       "      <td>...</td>\n",
       "      <td>...</td>\n",
       "      <td>...</td>\n",
       "      <td>...</td>\n",
       "      <td>...</td>\n",
       "      <td>...</td>\n",
       "      <td>...</td>\n",
       "      <td>...</td>\n",
       "      <td>...</td>\n",
       "      <td>...</td>\n",
       "    </tr>\n",
       "    <tr>\n",
       "      <th>501</th>\n",
       "      <td>-0.413229</td>\n",
       "      <td>-0.487722</td>\n",
       "      <td>0.115738</td>\n",
       "      <td>-0.272599</td>\n",
       "      <td>0.158124</td>\n",
       "      <td>0.439316</td>\n",
       "      <td>0.018673</td>\n",
       "      <td>-0.625796</td>\n",
       "      <td>-0.982843</td>\n",
       "      <td>-0.803212</td>\n",
       "      <td>1.176466</td>\n",
       "      <td>0.387217</td>\n",
       "      <td>-0.418147</td>\n",
       "    </tr>\n",
       "    <tr>\n",
       "      <th>502</th>\n",
       "      <td>-0.415249</td>\n",
       "      <td>-0.487722</td>\n",
       "      <td>0.115738</td>\n",
       "      <td>-0.272599</td>\n",
       "      <td>0.158124</td>\n",
       "      <td>-0.234548</td>\n",
       "      <td>0.288933</td>\n",
       "      <td>-0.716639</td>\n",
       "      <td>-0.982843</td>\n",
       "      <td>-0.803212</td>\n",
       "      <td>1.176466</td>\n",
       "      <td>0.441052</td>\n",
       "      <td>-0.500850</td>\n",
       "    </tr>\n",
       "    <tr>\n",
       "      <th>503</th>\n",
       "      <td>-0.413447</td>\n",
       "      <td>-0.487722</td>\n",
       "      <td>0.115738</td>\n",
       "      <td>-0.272599</td>\n",
       "      <td>0.158124</td>\n",
       "      <td>0.984960</td>\n",
       "      <td>0.797449</td>\n",
       "      <td>-0.773684</td>\n",
       "      <td>-0.982843</td>\n",
       "      <td>-0.803212</td>\n",
       "      <td>1.176466</td>\n",
       "      <td>0.441052</td>\n",
       "      <td>-0.983048</td>\n",
       "    </tr>\n",
       "    <tr>\n",
       "      <th>504</th>\n",
       "      <td>-0.407764</td>\n",
       "      <td>-0.487722</td>\n",
       "      <td>0.115738</td>\n",
       "      <td>-0.272599</td>\n",
       "      <td>0.158124</td>\n",
       "      <td>0.725672</td>\n",
       "      <td>0.736996</td>\n",
       "      <td>-0.668437</td>\n",
       "      <td>-0.982843</td>\n",
       "      <td>-0.803212</td>\n",
       "      <td>1.176466</td>\n",
       "      <td>0.403225</td>\n",
       "      <td>-0.865302</td>\n",
       "    </tr>\n",
       "    <tr>\n",
       "      <th>505</th>\n",
       "      <td>-0.415000</td>\n",
       "      <td>-0.487722</td>\n",
       "      <td>0.115738</td>\n",
       "      <td>-0.272599</td>\n",
       "      <td>0.158124</td>\n",
       "      <td>-0.362767</td>\n",
       "      <td>0.434732</td>\n",
       "      <td>-0.613246</td>\n",
       "      <td>-0.982843</td>\n",
       "      <td>-0.803212</td>\n",
       "      <td>1.176466</td>\n",
       "      <td>0.441052</td>\n",
       "      <td>-0.669058</td>\n",
       "    </tr>\n",
       "  </tbody>\n",
       "</table>\n",
       "<p>506 rows × 13 columns</p>\n",
       "</div>"
      ],
      "text/plain": [
       "         CRIM        ZN     INDUS      CHAS       NOX        RM       AGE  \\\n",
       "0   -0.419782  0.284830 -1.287909 -0.272599 -0.144217  0.413672 -0.120013   \n",
       "1   -0.417339 -0.487722 -0.593381 -0.272599 -0.740262  0.194274  0.367166   \n",
       "2   -0.417342 -0.487722 -0.593381 -0.272599 -0.740262  1.282714 -0.265812   \n",
       "3   -0.416750 -0.487722 -1.306878 -0.272599 -0.835284  1.016303 -0.809889   \n",
       "4   -0.412482 -0.487722 -1.306878 -0.272599 -0.835284  1.228577 -0.511180   \n",
       "..        ...       ...       ...       ...       ...       ...       ...   \n",
       "501 -0.413229 -0.487722  0.115738 -0.272599  0.158124  0.439316  0.018673   \n",
       "502 -0.415249 -0.487722  0.115738 -0.272599  0.158124 -0.234548  0.288933   \n",
       "503 -0.413447 -0.487722  0.115738 -0.272599  0.158124  0.984960  0.797449   \n",
       "504 -0.407764 -0.487722  0.115738 -0.272599  0.158124  0.725672  0.736996   \n",
       "505 -0.415000 -0.487722  0.115738 -0.272599  0.158124 -0.362767  0.434732   \n",
       "\n",
       "          DIS       RAD       TAX   PTRATIO         B     LSTAT  \n",
       "0    0.140214 -0.982843 -0.666608 -1.459000  0.441052 -1.075562  \n",
       "1    0.557160 -0.867883 -0.987329 -0.303094  0.441052 -0.492439  \n",
       "2    0.557160 -0.867883 -0.987329 -0.303094  0.396427 -1.208727  \n",
       "3    1.077737 -0.752922 -1.106115  0.113032  0.416163 -1.361517  \n",
       "4    1.077737 -0.752922 -1.106115  0.113032  0.441052 -1.026501  \n",
       "..        ...       ...       ...       ...       ...       ...  \n",
       "501 -0.625796 -0.982843 -0.803212  1.176466  0.387217 -0.418147  \n",
       "502 -0.716639 -0.982843 -0.803212  1.176466  0.441052 -0.500850  \n",
       "503 -0.773684 -0.982843 -0.803212  1.176466  0.441052 -0.983048  \n",
       "504 -0.668437 -0.982843 -0.803212  1.176466  0.403225 -0.865302  \n",
       "505 -0.613246 -0.982843 -0.803212  1.176466  0.441052 -0.669058  \n",
       "\n",
       "[506 rows x 13 columns]"
      ]
     },
     "metadata": {},
     "output_type": "display_data"
    },
    {
     "data": {
      "text/html": [
       "<div>\n",
       "<style scoped>\n",
       "    .dataframe tbody tr th:only-of-type {\n",
       "        vertical-align: middle;\n",
       "    }\n",
       "\n",
       "    .dataframe tbody tr th {\n",
       "        vertical-align: top;\n",
       "    }\n",
       "\n",
       "    .dataframe thead th {\n",
       "        text-align: right;\n",
       "    }\n",
       "</style>\n",
       "<table border=\"1\" class=\"dataframe\">\n",
       "  <thead>\n",
       "    <tr style=\"text-align: right;\">\n",
       "      <th></th>\n",
       "      <th>mean</th>\n",
       "      <th>std</th>\n",
       "    </tr>\n",
       "  </thead>\n",
       "  <tbody>\n",
       "    <tr>\n",
       "      <th>0</th>\n",
       "      <td>-8.787437e-17</td>\n",
       "      <td>1.0</td>\n",
       "    </tr>\n",
       "    <tr>\n",
       "      <th>1</th>\n",
       "      <td>-6.343191e-16</td>\n",
       "      <td>1.0</td>\n",
       "    </tr>\n",
       "    <tr>\n",
       "      <th>2</th>\n",
       "      <td>-2.682911e-15</td>\n",
       "      <td>1.0</td>\n",
       "    </tr>\n",
       "    <tr>\n",
       "      <th>3</th>\n",
       "      <td>4.701992e-16</td>\n",
       "      <td>1.0</td>\n",
       "    </tr>\n",
       "    <tr>\n",
       "      <th>4</th>\n",
       "      <td>2.490322e-15</td>\n",
       "      <td>1.0</td>\n",
       "    </tr>\n",
       "    <tr>\n",
       "      <th>5</th>\n",
       "      <td>-1.145230e-14</td>\n",
       "      <td>1.0</td>\n",
       "    </tr>\n",
       "    <tr>\n",
       "      <th>6</th>\n",
       "      <td>-1.407855e-15</td>\n",
       "      <td>1.0</td>\n",
       "    </tr>\n",
       "    <tr>\n",
       "      <th>7</th>\n",
       "      <td>9.210902e-16</td>\n",
       "      <td>1.0</td>\n",
       "    </tr>\n",
       "    <tr>\n",
       "      <th>8</th>\n",
       "      <td>5.441409e-16</td>\n",
       "      <td>1.0</td>\n",
       "    </tr>\n",
       "    <tr>\n",
       "      <th>9</th>\n",
       "      <td>-8.868619e-16</td>\n",
       "      <td>1.0</td>\n",
       "    </tr>\n",
       "    <tr>\n",
       "      <th>10</th>\n",
       "      <td>-9.205636e-15</td>\n",
       "      <td>1.0</td>\n",
       "    </tr>\n",
       "    <tr>\n",
       "      <th>11</th>\n",
       "      <td>8.163101e-15</td>\n",
       "      <td>1.0</td>\n",
       "    </tr>\n",
       "    <tr>\n",
       "      <th>12</th>\n",
       "      <td>-3.370163e-16</td>\n",
       "      <td>1.0</td>\n",
       "    </tr>\n",
       "  </tbody>\n",
       "</table>\n",
       "</div>"
      ],
      "text/plain": [
       "            mean  std\n",
       "0  -8.787437e-17  1.0\n",
       "1  -6.343191e-16  1.0\n",
       "2  -2.682911e-15  1.0\n",
       "3   4.701992e-16  1.0\n",
       "4   2.490322e-15  1.0\n",
       "5  -1.145230e-14  1.0\n",
       "6  -1.407855e-15  1.0\n",
       "7   9.210902e-16  1.0\n",
       "8   5.441409e-16  1.0\n",
       "9  -8.868619e-16  1.0\n",
       "10 -9.205636e-15  1.0\n",
       "11  8.163101e-15  1.0\n",
       "12 -3.370163e-16  1.0"
      ]
     },
     "metadata": {},
     "output_type": "display_data"
    }
   ],
   "source": [
    "## EXERCISE CODE GOES HERE \n",
    "\n",
    "# Rescaling\n",
    "print(\"****Rescaling & Standardization of boston dataset****\")\n",
    "# we will rescale all the boston dataset features using MinMaxScaler between (0,1)\n",
    "minmax_scale = MinMaxScaler(feature_range=(0, 1))\n",
    "# print features prior to rescaling\n",
    "print(\"Features Prior to Rescaling & Standardization:\")\n",
    "display(boston_X)\n",
    "# Scale the features and converting it to a dataframe\n",
    "mmscaled_boston_X = minmax_scale.fit_transform(boston_X)\n",
    "mmscaled_boston_X_df = pd.DataFrame(data = mmscaled_boston_X,columns=boston_X.columns)\n",
    "# lets look at the recaled features\n",
    "print(\"Features after minmax rescaling:\\n\")\n",
    "display(mmscaled_boston_X_df)\n",
    "# lets verify the rescaled features\n",
    "min_max_mmscaled_boston_X_df = pd.DataFrame(data={'min':mmscaled_boston_X_df.min(axis=0), 'max':mmscaled_boston_X_df.max(axis=0)}, index=boston_X.columns)\n",
    "# display the dataframe\n",
    "display(min_max_mmscaled_boston_X_df)\n",
    "\n",
    "# Standardization\n",
    "# we will rescale all the boston dataset features using StandardScaler\n",
    "stdscaler = StandardScaler()\n",
    "# Scale the features\n",
    "stdscaled_boston_X = stdscaler.fit_transform(boston_X) \n",
    "# lets look at the features now we have rescaled\n",
    "print(\"Features after Standardization:\")\n",
    "display(pd.DataFrame(data = stdscaled_boston_X,columns=boston_X.columns))\n",
    "# lets verify the transformed data\n",
    "mean_std_transformed = pd.DataFrame(data={'mean':stdscaled_boston_X.mean(axis=0), 'std':stdscaled_boston_X.std(axis=0)})\n",
    "# display the dataframe\n",
    "display(mean_std_transformed)"
   ]
  },
  {
   "cell_type": "markdown",
   "metadata": {},
   "source": [
    "* Research and implement a `Normalizer` function"
   ]
  },
  {
   "cell_type": "code",
   "execution_count": 11,
   "metadata": {},
   "outputs": [
    {
     "data": {
      "text/html": [
       "<div>\n",
       "<style scoped>\n",
       "    .dataframe tbody tr th:only-of-type {\n",
       "        vertical-align: middle;\n",
       "    }\n",
       "\n",
       "    .dataframe tbody tr th {\n",
       "        vertical-align: top;\n",
       "    }\n",
       "\n",
       "    .dataframe thead th {\n",
       "        text-align: right;\n",
       "    }\n",
       "</style>\n",
       "<table border=\"1\" class=\"dataframe\">\n",
       "  <thead>\n",
       "    <tr style=\"text-align: right;\">\n",
       "      <th></th>\n",
       "      <th>CRIM</th>\n",
       "      <th>ZN</th>\n",
       "      <th>INDUS</th>\n",
       "      <th>CHAS</th>\n",
       "      <th>NOX</th>\n",
       "      <th>RM</th>\n",
       "      <th>AGE</th>\n",
       "      <th>DIS</th>\n",
       "      <th>RAD</th>\n",
       "      <th>TAX</th>\n",
       "      <th>PTRATIO</th>\n",
       "      <th>B</th>\n",
       "      <th>LSTAT</th>\n",
       "    </tr>\n",
       "  </thead>\n",
       "  <tbody>\n",
       "    <tr>\n",
       "      <th>0</th>\n",
       "      <td>0.000013</td>\n",
       "      <td>0.035997</td>\n",
       "      <td>0.004620</td>\n",
       "      <td>0.0</td>\n",
       "      <td>0.001076</td>\n",
       "      <td>0.013149</td>\n",
       "      <td>0.130388</td>\n",
       "      <td>0.008179</td>\n",
       "      <td>0.002000</td>\n",
       "      <td>0.591945</td>\n",
       "      <td>0.030597</td>\n",
       "      <td>0.793727</td>\n",
       "      <td>0.009959</td>\n",
       "    </tr>\n",
       "    <tr>\n",
       "      <th>1</th>\n",
       "      <td>0.000058</td>\n",
       "      <td>0.000000</td>\n",
       "      <td>0.014977</td>\n",
       "      <td>0.0</td>\n",
       "      <td>0.000994</td>\n",
       "      <td>0.013602</td>\n",
       "      <td>0.167140</td>\n",
       "      <td>0.010522</td>\n",
       "      <td>0.004237</td>\n",
       "      <td>0.512648</td>\n",
       "      <td>0.037707</td>\n",
       "      <td>0.840785</td>\n",
       "      <td>0.019362</td>\n",
       "    </tr>\n",
       "    <tr>\n",
       "      <th>2</th>\n",
       "      <td>0.000059</td>\n",
       "      <td>0.000000</td>\n",
       "      <td>0.015174</td>\n",
       "      <td>0.0</td>\n",
       "      <td>0.001007</td>\n",
       "      <td>0.015421</td>\n",
       "      <td>0.131140</td>\n",
       "      <td>0.010661</td>\n",
       "      <td>0.004293</td>\n",
       "      <td>0.519409</td>\n",
       "      <td>0.038204</td>\n",
       "      <td>0.843138</td>\n",
       "      <td>0.008650</td>\n",
       "    </tr>\n",
       "    <tr>\n",
       "      <th>3</th>\n",
       "      <td>0.000071</td>\n",
       "      <td>0.000000</td>\n",
       "      <td>0.004785</td>\n",
       "      <td>0.0</td>\n",
       "      <td>0.001005</td>\n",
       "      <td>0.015360</td>\n",
       "      <td>0.100527</td>\n",
       "      <td>0.013306</td>\n",
       "      <td>0.006585</td>\n",
       "      <td>0.487268</td>\n",
       "      <td>0.041045</td>\n",
       "      <td>0.866174</td>\n",
       "      <td>0.006453</td>\n",
       "    </tr>\n",
       "    <tr>\n",
       "      <th>4</th>\n",
       "      <td>0.000151</td>\n",
       "      <td>0.000000</td>\n",
       "      <td>0.004755</td>\n",
       "      <td>0.0</td>\n",
       "      <td>0.000999</td>\n",
       "      <td>0.015587</td>\n",
       "      <td>0.118209</td>\n",
       "      <td>0.013222</td>\n",
       "      <td>0.006543</td>\n",
       "      <td>0.484177</td>\n",
       "      <td>0.040784</td>\n",
       "      <td>0.865631</td>\n",
       "      <td>0.011625</td>\n",
       "    </tr>\n",
       "    <tr>\n",
       "      <th>...</th>\n",
       "      <td>...</td>\n",
       "      <td>...</td>\n",
       "      <td>...</td>\n",
       "      <td>...</td>\n",
       "      <td>...</td>\n",
       "      <td>...</td>\n",
       "      <td>...</td>\n",
       "      <td>...</td>\n",
       "      <td>...</td>\n",
       "      <td>...</td>\n",
       "      <td>...</td>\n",
       "      <td>...</td>\n",
       "      <td>...</td>\n",
       "    </tr>\n",
       "    <tr>\n",
       "      <th>501</th>\n",
       "      <td>0.000130</td>\n",
       "      <td>0.000000</td>\n",
       "      <td>0.024679</td>\n",
       "      <td>0.0</td>\n",
       "      <td>0.001185</td>\n",
       "      <td>0.013638</td>\n",
       "      <td>0.142942</td>\n",
       "      <td>0.005127</td>\n",
       "      <td>0.002069</td>\n",
       "      <td>0.564735</td>\n",
       "      <td>0.043441</td>\n",
       "      <td>0.810881</td>\n",
       "      <td>0.020004</td>\n",
       "    </tr>\n",
       "    <tr>\n",
       "      <th>502</th>\n",
       "      <td>0.000093</td>\n",
       "      <td>0.000000</td>\n",
       "      <td>0.024421</td>\n",
       "      <td>0.0</td>\n",
       "      <td>0.001173</td>\n",
       "      <td>0.012528</td>\n",
       "      <td>0.157005</td>\n",
       "      <td>0.004683</td>\n",
       "      <td>0.002047</td>\n",
       "      <td>0.558831</td>\n",
       "      <td>0.042987</td>\n",
       "      <td>0.812455</td>\n",
       "      <td>0.018587</td>\n",
       "    </tr>\n",
       "    <tr>\n",
       "      <th>503</th>\n",
       "      <td>0.000124</td>\n",
       "      <td>0.000000</td>\n",
       "      <td>0.024301</td>\n",
       "      <td>0.0</td>\n",
       "      <td>0.001167</td>\n",
       "      <td>0.014210</td>\n",
       "      <td>0.185364</td>\n",
       "      <td>0.004415</td>\n",
       "      <td>0.002037</td>\n",
       "      <td>0.556091</td>\n",
       "      <td>0.042776</td>\n",
       "      <td>0.808470</td>\n",
       "      <td>0.011488</td>\n",
       "    </tr>\n",
       "    <tr>\n",
       "      <th>504</th>\n",
       "      <td>0.000225</td>\n",
       "      <td>0.000000</td>\n",
       "      <td>0.024455</td>\n",
       "      <td>0.0</td>\n",
       "      <td>0.001175</td>\n",
       "      <td>0.013927</td>\n",
       "      <td>0.183053</td>\n",
       "      <td>0.004897</td>\n",
       "      <td>0.002050</td>\n",
       "      <td>0.559613</td>\n",
       "      <td>0.043047</td>\n",
       "      <td>0.806519</td>\n",
       "      <td>0.013283</td>\n",
       "    </tr>\n",
       "    <tr>\n",
       "      <th>505</th>\n",
       "      <td>0.000097</td>\n",
       "      <td>0.000000</td>\n",
       "      <td>0.024389</td>\n",
       "      <td>0.0</td>\n",
       "      <td>0.001171</td>\n",
       "      <td>0.012327</td>\n",
       "      <td>0.165181</td>\n",
       "      <td>0.005121</td>\n",
       "      <td>0.002044</td>\n",
       "      <td>0.558101</td>\n",
       "      <td>0.042931</td>\n",
       "      <td>0.811392</td>\n",
       "      <td>0.016109</td>\n",
       "    </tr>\n",
       "  </tbody>\n",
       "</table>\n",
       "<p>506 rows × 13 columns</p>\n",
       "</div>"
      ],
      "text/plain": [
       "         CRIM        ZN     INDUS  CHAS       NOX        RM       AGE  \\\n",
       "0    0.000013  0.035997  0.004620   0.0  0.001076  0.013149  0.130388   \n",
       "1    0.000058  0.000000  0.014977   0.0  0.000994  0.013602  0.167140   \n",
       "2    0.000059  0.000000  0.015174   0.0  0.001007  0.015421  0.131140   \n",
       "3    0.000071  0.000000  0.004785   0.0  0.001005  0.015360  0.100527   \n",
       "4    0.000151  0.000000  0.004755   0.0  0.000999  0.015587  0.118209   \n",
       "..        ...       ...       ...   ...       ...       ...       ...   \n",
       "501  0.000130  0.000000  0.024679   0.0  0.001185  0.013638  0.142942   \n",
       "502  0.000093  0.000000  0.024421   0.0  0.001173  0.012528  0.157005   \n",
       "503  0.000124  0.000000  0.024301   0.0  0.001167  0.014210  0.185364   \n",
       "504  0.000225  0.000000  0.024455   0.0  0.001175  0.013927  0.183053   \n",
       "505  0.000097  0.000000  0.024389   0.0  0.001171  0.012327  0.165181   \n",
       "\n",
       "          DIS       RAD       TAX   PTRATIO         B     LSTAT  \n",
       "0    0.008179  0.002000  0.591945  0.030597  0.793727  0.009959  \n",
       "1    0.010522  0.004237  0.512648  0.037707  0.840785  0.019362  \n",
       "2    0.010661  0.004293  0.519409  0.038204  0.843138  0.008650  \n",
       "3    0.013306  0.006585  0.487268  0.041045  0.866174  0.006453  \n",
       "4    0.013222  0.006543  0.484177  0.040784  0.865631  0.011625  \n",
       "..        ...       ...       ...       ...       ...       ...  \n",
       "501  0.005127  0.002069  0.564735  0.043441  0.810881  0.020004  \n",
       "502  0.004683  0.002047  0.558831  0.042987  0.812455  0.018587  \n",
       "503  0.004415  0.002037  0.556091  0.042776  0.808470  0.011488  \n",
       "504  0.004897  0.002050  0.559613  0.043047  0.806519  0.013283  \n",
       "505  0.005121  0.002044  0.558101  0.042931  0.811392  0.016109  \n",
       "\n",
       "[506 rows x 13 columns]"
      ]
     },
     "metadata": {},
     "output_type": "display_data"
    },
    {
     "data": {
      "text/html": [
       "<div>\n",
       "<style scoped>\n",
       "    .dataframe tbody tr th:only-of-type {\n",
       "        vertical-align: middle;\n",
       "    }\n",
       "\n",
       "    .dataframe tbody tr th {\n",
       "        vertical-align: top;\n",
       "    }\n",
       "\n",
       "    .dataframe thead th {\n",
       "        text-align: right;\n",
       "    }\n",
       "</style>\n",
       "<table border=\"1\" class=\"dataframe\">\n",
       "  <thead>\n",
       "    <tr style=\"text-align: right;\">\n",
       "      <th></th>\n",
       "      <th>l2 norm</th>\n",
       "    </tr>\n",
       "  </thead>\n",
       "  <tbody>\n",
       "    <tr>\n",
       "      <th>0</th>\n",
       "      <td>1.0</td>\n",
       "    </tr>\n",
       "    <tr>\n",
       "      <th>1</th>\n",
       "      <td>1.0</td>\n",
       "    </tr>\n",
       "    <tr>\n",
       "      <th>2</th>\n",
       "      <td>1.0</td>\n",
       "    </tr>\n",
       "    <tr>\n",
       "      <th>3</th>\n",
       "      <td>1.0</td>\n",
       "    </tr>\n",
       "    <tr>\n",
       "      <th>4</th>\n",
       "      <td>1.0</td>\n",
       "    </tr>\n",
       "    <tr>\n",
       "      <th>...</th>\n",
       "      <td>...</td>\n",
       "    </tr>\n",
       "    <tr>\n",
       "      <th>501</th>\n",
       "      <td>1.0</td>\n",
       "    </tr>\n",
       "    <tr>\n",
       "      <th>502</th>\n",
       "      <td>1.0</td>\n",
       "    </tr>\n",
       "    <tr>\n",
       "      <th>503</th>\n",
       "      <td>1.0</td>\n",
       "    </tr>\n",
       "    <tr>\n",
       "      <th>504</th>\n",
       "      <td>1.0</td>\n",
       "    </tr>\n",
       "    <tr>\n",
       "      <th>505</th>\n",
       "      <td>1.0</td>\n",
       "    </tr>\n",
       "  </tbody>\n",
       "</table>\n",
       "<p>506 rows × 1 columns</p>\n",
       "</div>"
      ],
      "text/plain": [
       "     l2 norm\n",
       "0        1.0\n",
       "1        1.0\n",
       "2        1.0\n",
       "3        1.0\n",
       "4        1.0\n",
       "..       ...\n",
       "501      1.0\n",
       "502      1.0\n",
       "503      1.0\n",
       "504      1.0\n",
       "505      1.0\n",
       "\n",
       "[506 rows x 1 columns]"
      ]
     },
     "metadata": {},
     "output_type": "display_data"
    }
   ],
   "source": [
    "# import the normalizer function\n",
    "from sklearn.preprocessing import Normalizer\n",
    "#normalize using the Normalizer function so that the l2 norm is 1\n",
    "normalize_boston_X = Normalizer('l2').fit_transform(boston_X)\n",
    "normalize_boston_X_df = pd.DataFrame(normalize_boston_X,columns=boston_X.columns)\n",
    "display(normalize_boston_X_df)\n",
    "# lets verify the normalized data whose l2 norm should be 1\n",
    "verify_normalize_boston_X_df = pd.DataFrame(data = np.sqrt(np.square(normalize_boston_X_df).sum(axis=1)), columns=['l2 norm'])\n",
    "# display the dataframe\n",
    "display(verify_normalize_boston_X_df)"
   ]
  },
  {
   "cell_type": "markdown",
   "metadata": {},
   "source": [
    "#Have a think about what circumstances each of these functions might be most appropriate to apply to different data and why \n",
    "#We can discuss the implementations and benefits of each approach on Teams "
   ]
  },
  {
   "cell_type": "markdown",
   "metadata": {},
   "source": [
    "- Without scaling, some features with higher values will have more impact on the model performance than the features with smaller values. Its like comparing Apples with Oranges. By using scaling, we can make all the features are in the same dimensional space and avoiding uneven impact on model performance.\n",
    "- Normalizer function will be helpful to know similarity among things( like documents, person etc) irrespective of their size. retrieving related documents during search etc."
   ]
  },
  {
   "cell_type": "markdown",
   "metadata": {
    "id": "f8E5I4vtgK7y"
   },
   "source": [
    "## 3. Model Evaluation and Metrics \n",
    "* We need to understand how we are going to assess our model's performance. This involves:\n",
    "  * Splitting our Training and Testing data appropriately \n",
    "  * Choosing an Evaluation Metric\n",
    "  * Developing a Baseline Model \n"
   ]
  },
  {
   "cell_type": "code",
   "execution_count": 12,
   "metadata": {
    "executionInfo": {
     "elapsed": 1978,
     "status": "ok",
     "timestamp": 1607939666840,
     "user": {
      "displayName": "A J",
      "photoUrl": "https://lh3.googleusercontent.com/a-/AOh14GjZDwFqnFt3HwqF4Wu3Au0RSvls62YjJWudcDUj=s64",
      "userId": "15417262701029927930"
     },
     "user_tz": 0
    },
    "id": "uq-9z9Hgnwia"
   },
   "outputs": [],
   "source": [
    "## testing and training splits \n",
    " \n",
    "# import statement \n",
    "from sklearn.model_selection import train_test_split\n",
    " \n",
    "# this splits our data into a test and training set\n",
    "# the function shuffles our data before splitting (so we will get both classes in both sets)\n",
    "# setting a random_state means that this shuffling will be consistent for each run \n",
    "# setting stratify=class_y tells the function to have an even number of class labels in each set\n",
    "X_train, X_test, y_train, y_test = train_test_split(class_X, class_y, test_size=0.3, random_state=1, stratify = class_y)"
   ]
  },
  {
   "cell_type": "code",
   "execution_count": 13,
   "metadata": {
    "colab": {
     "base_uri": "https://localhost:8080/"
    },
    "executionInfo": {
     "elapsed": 1952,
     "status": "ok",
     "timestamp": 1607939666842,
     "user": {
      "displayName": "A J",
      "photoUrl": "https://lh3.googleusercontent.com/a-/AOh14GjZDwFqnFt3HwqF4Wu3Au0RSvls62YjJWudcDUj=s64",
      "userId": "15417262701029927930"
     },
     "user_tz": 0
    },
    "id": "-LcIe8dY_50z",
    "outputId": "b329072b-7f0f-4c60-a21b-7d5410282b35"
   },
   "outputs": [
    {
     "name": "stdout",
     "output_type": "stream",
     "text": [
      "Labels counts in y: [212 357]\n",
      "Percentage of class zeroes in class_y 37.0\n",
      "\n",
      "\n",
      "Labels counts in y_train: [148 250]\n",
      "Percentage of class zeroes in y_train 37.0\n",
      "\n",
      "\n",
      "Labels counts in y_test: [ 64 107]\n",
      "Percentage of class zeroes in y_test 37.0\n"
     ]
    }
   ],
   "source": [
    "# we can verify the stratifications using np.bincount\n",
    "print('Labels counts in y:', np.bincount(class_y))\n",
    "print('Percentage of class zeroes in class_y',np.round(np.bincount(class_y)[0]/len(class_y)*100))\n",
    " \n",
    "print(\"\\n\")\n",
    "print('Labels counts in y_train:', np.bincount(y_train))\n",
    "print('Percentage of class zeroes in y_train',np.round(np.bincount(y_train)[0]/len(y_train)*100))\n",
    " \n",
    "print(\"\\n\")\n",
    "print('Labels counts in y_test:', np.bincount(y_test))\n",
    "print('Percentage of class zeroes in y_test',np.round(np.bincount(y_test)[0]/len(y_test)*100))"
   ]
  },
  {
   "cell_type": "markdown",
   "metadata": {
    "id": "kEM_Ub4wCx7I"
   },
   "source": [
    "* Note that there are additional ways to divide our data into test and training sets, and we cover `K-fold cross validation` in the **Pipeline** section below."
   ]
  },
  {
   "cell_type": "code",
   "execution_count": 14,
   "metadata": {
    "colab": {
     "base_uri": "https://localhost:8080/"
    },
    "executionInfo": {
     "elapsed": 1936,
     "status": "ok",
     "timestamp": 1607939666849,
     "user": {
      "displayName": "A J",
      "photoUrl": "https://lh3.googleusercontent.com/a-/AOh14GjZDwFqnFt3HwqF4Wu3Au0RSvls62YjJWudcDUj=s64",
      "userId": "15417262701029927930"
     },
     "user_tz": 0
    },
    "id": "BLckno3Rnw-N",
    "outputId": "f4b2f85b-a866-473d-b291-1bd8af54c4a0"
   },
   "outputs": [
    {
     "data": {
      "text/plain": [
       "DummyClassifier(random_state=1, strategy='uniform')"
      ]
     },
     "execution_count": 14,
     "metadata": {},
     "output_type": "execute_result"
    }
   ],
   "source": [
    "## we can create a baseline model to benchmark our other estimators against\n",
    "## this can be a simple estimator or we can use a dummy estimator to make predictions in a random manner \n",
    " \n",
    "# this is the required import statement \n",
    "from sklearn.dummy import DummyClassifier\n",
    " \n",
    "# this creates our dummy classifier, and the value we pass in to the strategy parameter determines how the \n",
    "# classifier will make the predictions\n",
    "dummy = DummyClassifier(strategy='uniform', random_state=1)\n",
    " \n",
    "# \"Train\" model\n",
    "dummy.fit(X_train, y_train)"
   ]
  },
  {
   "cell_type": "code",
   "execution_count": 15,
   "metadata": {
    "colab": {
     "base_uri": "https://localhost:8080/"
    },
    "executionInfo": {
     "elapsed": 1915,
     "status": "ok",
     "timestamp": 1607939666852,
     "user": {
      "displayName": "A J",
      "photoUrl": "https://lh3.googleusercontent.com/a-/AOh14GjZDwFqnFt3HwqF4Wu3Au0RSvls62YjJWudcDUj=s64",
      "userId": "15417262701029927930"
     },
     "user_tz": 0
    },
    "id": "mrBocYv4nwwW",
    "outputId": "ed230c01-12dd-434b-deb7-f5187b3341ba"
   },
   "outputs": [
    {
     "data": {
      "text/plain": [
       "0.47953216374269003"
      ]
     },
     "execution_count": 15,
     "metadata": {},
     "output_type": "execute_result"
    }
   ],
   "source": [
    "## evaluating the model metrics\n",
    " \n",
    "# Here we get an accuracy score\n",
    "dummy.score(X_test, y_test)"
   ]
  },
  {
   "cell_type": "markdown",
   "metadata": {
    "id": "H5vlaKNKRPeC"
   },
   "source": [
    "* There are a number of different ways in `scikit-learn` to get an estimator score and it can get confusing first.\n",
    "* Remember that to get a score, we need to instantiate a model, fit it to the data, predict using unseen data, compare the predictions against actual data, and score the difference. This is true for classification and regression problems, and is true no matter the method used to get there.\n",
    "  * So, in the end-to-end tutorials we split the training and test data,  fitted our data to an estimator, and called the `.predict` method on the estimator to get our predictions, and then passed this to a scoring function (four steps)\n",
    "  * In using the `estimator.score()`method above, we are passing in our split data and the method is then making predictions and returning the score (three steps). \n",
    "  * And, in the `cross_val_score()` method used below we are effectively using one step as the method takes an estimator and our data and returns a score. You can find out more about this method [here](https://scikit-learn.org/stable/modules/cross_validation.html) \n",
    "  * Another function cross validation function `cross_validate()` is available\n",
    "  and enables the user to specify multiple scoring metrics at once."
   ]
  },
  {
   "cell_type": "code",
   "execution_count": 16,
   "metadata": {
    "colab": {
     "base_uri": "https://localhost:8080/"
    },
    "executionInfo": {
     "elapsed": 2217,
     "status": "ok",
     "timestamp": 1607939667174,
     "user": {
      "displayName": "A J",
      "photoUrl": "https://lh3.googleusercontent.com/a-/AOh14GjZDwFqnFt3HwqF4Wu3Au0RSvls62YjJWudcDUj=s64",
      "userId": "15417262701029927930"
     },
     "user_tz": 0
    },
    "id": "kEd1YkKQHHqo",
    "outputId": "331a7a49-3e45-4b22-95a2-a2088c89dc54"
   },
   "outputs": [
    {
     "data": {
      "text/plain": [
       "array([0.98591549, 0.97183099, 0.98611111, 0.95833333, 0.95774648])"
      ]
     },
     "execution_count": 16,
     "metadata": {},
     "output_type": "execute_result"
    }
   ],
   "source": [
    "## here we fit a new estimator and use cross_val_score to get a score based on a defined metric \n",
    " \n",
    "# import statements\n",
    "from sklearn.model_selection import cross_val_score\n",
    "from sklearn.linear_model import LogisticRegression\n",
    " \n",
    "# instantiate logistic regression classifier\n",
    "logistic = LogisticRegression(solver='liblinear')\n",
    " \n",
    "# we pass our estimator and data to the method. we also specify the number of folds (default is 3)\n",
    "# the default scring method is the one associated with the estimator we pass in\n",
    "# we can use the scoring parameter to pass in different scoring methods. Here we use recall.  \n",
    "cross_val_score(logistic, class_X, class_y, cv=5, scoring=\"recall\")"
   ]
  },
  {
   "cell_type": "markdown",
   "metadata": {
    "id": "Od2_2Tq1n0pc"
   },
   "source": [
    "### EXERCISE SECTION 3:\n",
    "* Part 1: Implement binary classification scoring functions \n",
    "  * Use `cross_val_score` to implement `f1`, and `precision` scores \n",
    "  * Understand what these scores, and the `accuracy` and `recall` scores implemented above, tell us\n",
    "* Part 2: Another way of assessing our model's performance is with the `Receiving Operating Characteristic (ROC) Curve`. \n",
    "  * What does this show us? Can you implement it?\n",
    "  * Like the other questions here, we can work through these via Teams.\n",
    "* Part 3: What are the main ways of evaluating a mutliclass classification problem?\n",
    "  * Research and make notes below\n",
    "* Part 4: Apply the above approach to the Boston dataset. You should think about:\n",
    "  * What sort of test and training split you want to implement \n",
    "    * Be careful to change the variable names for `X_train`, `y_train` etc. so that the new dataset doesn't overwrite those variables\n",
    "    * Experiment with not using the `stratify =  ` variable\n",
    "  * The evaluation metrics you wish to use and why (this is different than above as the Boston dataset is a regression problem)\n",
    "    * Evaluation metrics are covered in *Python Machine Learning*, Chapter 6\n",
    "  * Implementing a baseline model \n",
    "    * *Python Machine Learning*, Chapter 10 has linear regression implementations to draw from.\n",
    "* Feel free to discuss your approach on Teams and ask for support "
   ]
  },
  {
   "cell_type": "code",
   "execution_count": 17,
   "metadata": {
    "executionInfo": {
     "elapsed": 2213,
     "status": "ok",
     "timestamp": 1607939667176,
     "user": {
      "displayName": "A J",
      "photoUrl": "https://lh3.googleusercontent.com/a-/AOh14GjZDwFqnFt3HwqF4Wu3Au0RSvls62YjJWudcDUj=s64",
      "userId": "15417262701029927930"
     },
     "user_tz": 0
    },
    "id": "89mkhQL_HH3A"
   },
   "outputs": [
    {
     "data": {
      "text/plain": [
       "array([0.90909091, 0.93243243, 0.97260274, 0.95833333, 0.98550725])"
      ]
     },
     "execution_count": 17,
     "metadata": {},
     "output_type": "execute_result"
    }
   ],
   "source": [
    "## EXERCISE SECTION 3: PART 1\n",
    "## use the cross_val_score function to pass in and return the scoring functions: precision, f1 \n",
    "## note the scores and research what each score represents \n",
    "\n",
    "#Precision = TruePositives / (TruePositives + FalsePositives)\n",
    "cross_val_score(logistic, class_X, class_y, cv=5, scoring=\"precision\")"
   ]
  },
  {
   "cell_type": "markdown",
   "metadata": {},
   "source": [
    "comment: more than 90% of the cancer cases are predicted currently"
   ]
  },
  {
   "cell_type": "code",
   "execution_count": 18,
   "metadata": {},
   "outputs": [
    {
     "data": {
      "text/plain": [
       "array([0.94594595, 0.95172414, 0.97931034, 0.95833333, 0.97142857])"
      ]
     },
     "execution_count": 18,
     "metadata": {},
     "output_type": "execute_result"
    }
   ],
   "source": [
    "# F1 Score = 2*((precision*recall)/(precision+recall)) #Recall = TruePositives / (TruePositives + FalseNegatives)\n",
    "cross_val_score(logistic, class_X, class_y, cv=5, scoring=\"f1\")"
   ]
  },
  {
   "cell_type": "markdown",
   "metadata": {},
   "source": [
    "comment: more than 90% of the predictions are correct."
   ]
  },
  {
   "cell_type": "code",
   "execution_count": 19,
   "metadata": {
    "executionInfo": {
     "elapsed": 2209,
     "status": "ok",
     "timestamp": 1607939667178,
     "user": {
      "displayName": "A J",
      "photoUrl": "https://lh3.googleusercontent.com/a-/AOh14GjZDwFqnFt3HwqF4Wu3Au0RSvls62YjJWudcDUj=s64",
      "userId": "15417262701029927930"
     },
     "user_tz": 0
    },
    "id": "qjBM1RwPLW23"
   },
   "outputs": [
    {
     "name": "stdout",
     "output_type": "stream",
     "text": [
      "0.9422459112149533\n"
     ]
    },
    {
     "data": {
      "image/png": "[encoded data removed]",
      "text/plain": [
       "<Figure size 432x288 with 1 Axes>"
      ]
     },
     "metadata": {
      "needs_background": "light"
     },
     "output_type": "display_data"
    }
   ],
   "source": [
    "## EXERCISE SECTION 3: PART 2\n",
    "## look up and implement the ROC metric \n",
    "# import the roc library\n",
    "from sklearn.metrics import roc_auc_score\n",
    "# fit the model with training data\n",
    "logistic = logistic.fit(X_train,y_train)\n",
    "#get the roc score by predicting for the test data\n",
    "print(roc_auc_score(y_test, logistic.predict(X_test)))\n",
    "\n",
    "# import libraries for plotting the roc curve\n",
    "from sklearn import metrics\n",
    "import matplotlib.pyplot as plt\n",
    "#get the metrics\n",
    "y_pred_proba = logistic.predict_proba(X_test)[::,1]\n",
    "fpr, tpr, _ = metrics.roc_curve(y_test,  y_pred_proba)\n",
    "#create ROC curve\n",
    "plt.plot(fpr,tpr)\n",
    "plt.ylabel('True Positive Rate')\n",
    "plt.xlabel('False Positive Rate')\n",
    "plt.show()"
   ]
  },
  {
   "cell_type": "markdown",
   "metadata": {},
   "source": [
    "comment: the area under the curve is 94%"
   ]
  },
  {
   "cell_type": "markdown",
   "metadata": {
    "id": "E0vDRITZL1M1"
   },
   "source": [
    "**EXERCISE SECTION 3: PART 3** \n",
    "* What are the evaluation metrics that can be used for mutliclass regression problems?\n",
    "\n",
    "\n",
    "---\n",
    "\n",
    "**Answer**\n",
    "* Precision, Recall, F1 Score, TPR(True Positive Rate), FPR(False Positive Rate), ROC/AUC Curve\n"
   ]
  },
  {
   "cell_type": "code",
   "execution_count": 20,
   "metadata": {
    "executionInfo": {
     "elapsed": 2210,
     "status": "ok",
     "timestamp": 1607939667185,
     "user": {
      "displayName": "A J",
      "photoUrl": "https://lh3.googleusercontent.com/a-/AOh14GjZDwFqnFt3HwqF4Wu3Au0RSvls62YjJWudcDUj=s64",
      "userId": "15417262701029927930"
     },
     "user_tz": 0
    },
    "id": "Wg9cj_52o7Un"
   },
   "outputs": [
    {
     "name": "stdout",
     "output_type": "stream",
     "text": [
      "min: 5.0\n",
      "max: 50.0\n",
      "Labels counts in y: [  2  22  73 118 167  40  36  17   9  22]\n",
      "Labels counts in train y: [  2  15  51  83 117  28  25  12   6  15]\n",
      "Labels counts in test y: [ 0  7 22 35 50 12 11  5  3  7]\n",
      "Percentage of bin 1 in boston_y 4.3478260869565215\n",
      "Percentage of bin 1 in y_train 4.23728813559322\n",
      "Percentage of bin 1 in y_test 4.605263157894736\n"
     ]
    }
   ],
   "source": [
    "## EXERCISE SECTION 3: PART 4 \n",
    "## Implement a baseline model and evaluation metric for the Boston dataset (regression)\n",
    "\n",
    "# Lets create 10 bins for stratification.\n",
    "min = np.amin(boston_y)\n",
    "print('min:',min)\n",
    "max = np.amax(boston_y)\n",
    "print('max:',max)\n",
    "bins     = np.linspace(start=min, stop=max, num=10)\n",
    "Boston_y_binned = np.digitize(boston_y, bins, right=True)\n",
    "#split the data\n",
    "Boston_X_train, Boston_X_test, Boston_y_train, Boston_y_test = train_test_split(boston_X, boston_y, test_size=0.3, random_state=1, stratify = Boston_y_binned)\n",
    "# we can verify the stratifications using np.bincount\n",
    "print('Labels counts in y:', np.bincount(Boston_y_binned))\n",
    "print('Labels counts in train y:', np.bincount(np.digitize(Boston_y_train, bins, right=True)))\n",
    "print('Labels counts in test y:', np.bincount(np.digitize(Boston_y_test, bins, right=True)))\n",
    "print('Percentage of bin 1 in boston_y',np.bincount(Boston_y_binned)[1]/sum(np.bincount(Boston_y_binned))*100.0)\n",
    "print('Percentage of bin 1 in y_train',np.bincount(np.digitize(Boston_y_train, bins, right=True))[1]/sum(np.bincount(np.digitize(Boston_y_train, bins, right=True)))*100.0)\n",
    "print('Percentage of bin 1 in y_test',np.bincount(np.digitize(Boston_y_test, bins, right=True))[1]/sum(np.bincount(np.digitize(Boston_y_test, bins, right=True)))*100.0)"
   ]
  },
  {
   "cell_type": "markdown",
   "metadata": {},
   "source": [
    "Comment: We can see the bin ratio is almost maintained in the train and test data. "
   ]
  },
  {
   "cell_type": "code",
   "execution_count": 21,
   "metadata": {},
   "outputs": [
    {
     "data": {
      "text/plain": [
       "-2.479463961435613e-05"
      ]
     },
     "execution_count": 21,
     "metadata": {},
     "output_type": "execute_result"
    }
   ],
   "source": [
    "# import dummy regressor library \n",
    "from sklearn.dummy import DummyRegressor\n",
    "# create dummyregressor model with strategy as mean where the predictions are averaged\n",
    "dummy = DummyRegressor(strategy='mean')\n",
    " \n",
    "# Now we will Train the regressor model\n",
    "dummy.fit(X_train, y_train)\n",
    "\n",
    "# Get the coefficient of determination (R^2) of the prediction. \n",
    "dummy.score(X_test, y_test)"
   ]
  },
  {
   "cell_type": "markdown",
   "metadata": {},
   "source": [
    "Comment: the prediction is not good which i guess is worse than the straight line"
   ]
  },
  {
   "cell_type": "markdown",
   "metadata": {
    "id": "ptGBIAY4gLI9"
   },
   "source": [
    "## 4. Classification and regression machine learning algorithms "
   ]
  },
  {
   "cell_type": "markdown",
   "metadata": {
    "id": "FgIyAS2_qjSV"
   },
   "source": [
    "### EXERCISE SECTION 4:\n",
    "* You already have an idea about how to fit and instantiate machine learning models.\n",
    "* There are a large number of machine learning approaches you can use, and this exercise is about understanding how a number of them perform on our datasets.\n",
    "* Research and instantiate as many algorithms as you wish in the code cell marked below. \n",
    "  * There are a number of examples in *Python Machine Learning*, for example `SVM`, `Decision Trees` and `Logistic Regression` in Chapter 3."
   ]
  },
  {
   "cell_type": "code",
   "execution_count": 22,
   "metadata": {
    "executionInfo": {
     "elapsed": 2205,
     "status": "ok",
     "timestamp": 1607939667187,
     "user": {
      "displayName": "A J",
      "photoUrl": "https://lh3.googleusercontent.com/a-/AOh14GjZDwFqnFt3HwqF4Wu3Au0RSvls62YjJWudcDUj=s64",
      "userId": "15417262701029927930"
     },
     "user_tz": 0
    },
    "id": "qsEysh7vshDG"
   },
   "outputs": [],
   "source": [
    "## EXERCISE CODE HERE \n",
    "### Classification"
   ]
  },
  {
   "cell_type": "code",
   "execution_count": 23,
   "metadata": {},
   "outputs": [
    {
     "data": {
      "text/plain": [
       "0.9532163742690059"
      ]
     },
     "execution_count": 23,
     "metadata": {},
     "output_type": "execute_result"
    }
   ],
   "source": [
    "#Instantiate Support Vector Classifier\n",
    "from sklearn.svm import SVC\n",
    "svclf = SVC(kernel='linear')\n",
    "svclf = svclf.fit(X_train, y_train)\n",
    "svclf.score(X_test,y_test)"
   ]
  },
  {
   "cell_type": "code",
   "execution_count": 24,
   "metadata": {},
   "outputs": [
    {
     "data": {
      "text/plain": [
       "0.935672514619883"
      ]
     },
     "execution_count": 24,
     "metadata": {},
     "output_type": "execute_result"
    }
   ],
   "source": [
    "#Instantiate Decision Trees Classifier\n",
    "from sklearn.tree import DecisionTreeClassifier\n",
    "dtclf = DecisionTreeClassifier(random_state=21, criterion = 'entropy')\n",
    "dtclf = dtclf.fit(X_train, y_train)\n",
    "dtclf.score(X_test,y_test)"
   ]
  },
  {
   "cell_type": "code",
   "execution_count": 25,
   "metadata": {},
   "outputs": [
    {
     "data": {
      "text/plain": [
       "0.9298245614035088"
      ]
     },
     "execution_count": 25,
     "metadata": {},
     "output_type": "execute_result"
    }
   ],
   "source": [
    "#Instantiate Logistic Regression\n",
    "from sklearn.linear_model import LogisticRegression\n",
    "logclf = LogisticRegression(random_state=0, solver = 'sag')\n",
    "logclf = logclf.fit(X_train, y_train)\n",
    "logclf.score(X_test,y_test)"
   ]
  },
  {
   "cell_type": "markdown",
   "metadata": {},
   "source": [
    "### Regression"
   ]
  },
  {
   "cell_type": "code",
   "execution_count": 26,
   "metadata": {},
   "outputs": [
    {
     "data": {
      "text/plain": [
       "0.11569373089686708"
      ]
     },
     "execution_count": 26,
     "metadata": {},
     "output_type": "execute_result"
    }
   ],
   "source": [
    "#Instantiate SVM regressor\n",
    "from sklearn.svm import SVR\n",
    "svreg = SVR(C=1.0, degree=3)\n",
    "svreg = svreg.fit(Boston_X_train, Boston_y_train)\n",
    "svreg.score(Boston_X_test,Boston_y_test)"
   ]
  },
  {
   "cell_type": "code",
   "execution_count": 27,
   "metadata": {},
   "outputs": [
    {
     "data": {
      "text/plain": [
       "0.6586791264298695"
      ]
     },
     "execution_count": 27,
     "metadata": {},
     "output_type": "execute_result"
    }
   ],
   "source": [
    "#Instantiate Decision Trees regressor\n",
    "from sklearn.tree import DecisionTreeRegressor\n",
    "dtreg = DecisionTreeRegressor(min_samples_leaf = 4, random_state=0)\n",
    "dtreg = dtreg.fit(Boston_X_train, Boston_y_train)\n",
    "dtreg.score(Boston_X_test,Boston_y_test)"
   ]
  },
  {
   "cell_type": "code",
   "execution_count": 28,
   "metadata": {},
   "outputs": [
    {
     "data": {
      "text/plain": [
       "0.4983009556683047"
      ]
     },
     "execution_count": 28,
     "metadata": {},
     "output_type": "execute_result"
    }
   ],
   "source": [
    "#Instantiate K-nearest neighbor regressor\n",
    "from sklearn.neighbors import KNeighborsRegressor\n",
    "knnreg = KNeighborsRegressor(n_neighbors=3)\n",
    "knnreg = knnreg.fit(Boston_X_train, Boston_y_train)\n",
    "knnreg.score(Boston_X_test,Boston_y_test)"
   ]
  },
  {
   "cell_type": "markdown",
   "metadata": {
    "id": "qIFg9b-7wXgX"
   },
   "source": [
    "## 5. Regularization \n",
    "* When we train our models, we might need to prevent against **over-** or **underfitting**. Overfitting is when our model performs well on the training data but does not generalise to unseen data (such as our test set). The model might be too complex, with the parameter weights probably too large and aligned too closely to the patterns of the training data. The solution is to develop a means of reducing these weights during training, and this is done through a process called **regularization**.\n",
    "* Underfitting is when our model is too simple to capture patterns in either the training or test sets. Chapters 3 and 10 of *Python Machine Learning* cover this topic in more detail.\n",
    "* How we regularise the model depends on what estimator we are using. In most cases, we can penalise the increase in parameter weights as the model trains by inserting a regularization term to our model when we instantiate it. This is applicable to regression models, logistic regression and support vector classifiers (see below for implementations).  \n",
    "* For these estimators, the regularization term is commonly either **L1 Regularization**, where the weights are reduced by a user defined parameter multiplied by the absolute value of the weights (or coefficients); or **L2 Regularization**, where the weights are reduced by a user defined parameter multiplied by the squared sum of the weights.\n",
    "* For tree based models, such as Decision Trees and Random Forests, we can help prevent overfitting by adjusting parameters associated with the leaf and branch settings.\n",
    "* Regularization is another reason why feature scaling such as standardization is important. For regularization to work properly, we need to ensure that all our features are on comparable scales.\n",
    "* We implement L1 and L2 Regularization for regression models in this section. In Section 6, we implement  `RandomSearchCV` (explained below) on a `Logistic Regression` estimator. The parameters that we change in that implementation are related to regularization ('`C`' and '`penalty`')."
   ]
  },
  {
   "cell_type": "code",
   "execution_count": 29,
   "metadata": {
    "executionInfo": {
     "elapsed": 2201,
     "status": "ok",
     "timestamp": 1607939667190,
     "user": {
      "displayName": "A J",
      "photoUrl": "https://lh3.googleusercontent.com/a-/AOh14GjZDwFqnFt3HwqF4Wu3Au0RSvls62YjJWudcDUj=s64",
      "userId": "15417262701029927930"
     },
     "user_tz": 0
    },
    "id": "KuSLgswxwX4w"
   },
   "outputs": [],
   "source": [
    "## For regularization in regression we instantiate new models\n",
    "## Lasso regression is used for L1 Regularization \n",
    "# import statement \n",
    "from sklearn.linear_model import Lasso\n",
    "# Create lasso regression with alpha value - this is our hyperparameter \n",
    "lassoreg = Lasso(alpha=0.5)\n",
    " \n",
    "## Ridge regression is used for L2 Regularization\n",
    "# import statement \n",
    "from sklearn.linear_model import Ridge\n",
    "# Create ridge regression with an alpha value (our hyperparameter)\n",
    "ridgereg = Ridge(alpha=0.5)\n"
   ]
  },
  {
   "cell_type": "markdown",
   "metadata": {
    "id": "5kWobSEgwqad"
   },
   "source": [
    "### EXERCISE FOR SECTION 5\n",
    "* Part 1: Train both the models above and get a score. Compare the results and see if one type of regularization works better than another.\n",
    "* Part 2: The `ElasticNet`estimator combines both L1 and L2 Regularization. Look up the estimator on the scikit-learn documentation and a) write out how it combines both regularization methods, and b) see if you can implement it.\n",
    "* Part 3: We can use `RidgeCV` and `LassoCV` to explore the best regularization parameters for each estimator. Implement one or both of these estimators, defining the parameters you want to search over.\n",
    "* Part 4: Look at the `DecisionTreeClassifier `documentation in `scikit-learn` and come to a view on which parameters can be set to help prevent overfitting (and therefore help regularization). "
   ]
  },
  {
   "cell_type": "code",
   "execution_count": 30,
   "metadata": {
    "executionInfo": {
     "elapsed": 2194,
     "status": "ok",
     "timestamp": 1607939667194,
     "user": {
      "displayName": "A J",
      "photoUrl": "https://lh3.googleusercontent.com/a-/AOh14GjZDwFqnFt3HwqF4Wu3Au0RSvls62YjJWudcDUj=s64",
      "userId": "15417262701029927930"
     },
     "user_tz": 0
    },
    "id": "JO1SGtIRwYHA"
   },
   "outputs": [
    {
     "name": "stdout",
     "output_type": "stream",
     "text": [
      "Lasso: 0.6162789382981506\n",
      "Ridge: 0.6142851691424163\n"
     ]
    }
   ],
   "source": [
    "## EXERCISE SECTION 5: PART 1 \n",
    "# Part 1: Train both the models above and get a score. Compare the results and see if one type of regularization works better than another.\n",
    "\n",
    "# Fit the lasso regression\n",
    "lassoreg = lassoreg.fit(Boston_X_train, Boston_y_train)\n",
    "\n",
    "# Fit the ridge regression\n",
    "ridgereg = ridgereg.fit(Boston_X_train, Boston_y_train)\n",
    "\n",
    "print('Lasso:',lassoreg.score(Boston_X_test, Boston_y_test))\n",
    "print('Ridge:',ridgereg.score(Boston_X_test, Boston_y_test))\n"
   ]
  },
  {
   "cell_type": "markdown",
   "metadata": {},
   "source": [
    "Comment: Score is almost same for Lasso and Ridge"
   ]
  },
  {
   "cell_type": "code",
   "execution_count": 31,
   "metadata": {
    "executionInfo": {
     "elapsed": 2192,
     "status": "ok",
     "timestamp": 1607939667198,
     "user": {
      "displayName": "A J",
      "photoUrl": "https://lh3.googleusercontent.com/a-/AOh14GjZDwFqnFt3HwqF4Wu3Au0RSvls62YjJWudcDUj=s64",
      "userId": "15417262701029927930"
     },
     "user_tz": 0
    },
    "id": "5ZAm2HeawYhd"
   },
   "outputs": [
    {
     "name": "stdout",
     "output_type": "stream",
     "text": [
      "ElasticNetestimator: 0.6019291988239706\n"
     ]
    }
   ],
   "source": [
    "## EXERCISE SECTION 5: PART 2 \n",
    "# Part 2: The ElasticNetestimator combines both L1 and L2 Regularization. Look up the estimator on the scikit-learn documentation and \n",
    "#a) write out how it combines both regularization methods, and \n",
    "#b) see if you can implement it.\n",
    "\n",
    "from sklearn.linear_model import ElasticNet\n",
    "elasticregr = ElasticNet(l1_ratio = 0.9,random_state=0)\n",
    "elasticregr.fit(Boston_X_train, Boston_y_train)\n",
    "print('ElasticNetestimator:',elasticregr.score(Boston_X_test, Boston_y_test))"
   ]
  },
  {
   "cell_type": "code",
   "execution_count": 32,
   "metadata": {
    "executionInfo": {
     "elapsed": 2187,
     "status": "ok",
     "timestamp": 1607939667201,
     "user": {
      "displayName": "A J",
      "photoUrl": "https://lh3.googleusercontent.com/a-/AOh14GjZDwFqnFt3HwqF4Wu3Au0RSvls62YjJWudcDUj=s64",
      "userId": "15417262701029927930"
     },
     "user_tz": 0
    },
    "id": "718i3izO3dEv"
   },
   "outputs": [
    {
     "name": "stdout",
     "output_type": "stream",
     "text": [
      "RidgeCV: 0.614515662943599\n",
      "LassoCV: 0.6089710664062065\n"
     ]
    }
   ],
   "source": [
    "## EXERCISE SECTION 5: PART 3\n",
    "# Part 3: We can use RidgeCV and LassoCV to explore the best regularization parameters for each estimator. \n",
    "# Implement one or both of these estimators, defining the parameters you want to search over.\n",
    "\n",
    "from sklearn.linear_model import RidgeCV\n",
    "ridgecv = RidgeCV(alphas=[0.2,0.3,0.5,0.6,0.8,1], cv = 5).fit(Boston_X_train, Boston_y_train)\n",
    "print('RidgeCV:',ridgecv.score(Boston_X_test, Boston_y_test))\n",
    "\n",
    "from sklearn.linear_model import LassoCV\n",
    "lassocv = LassoCV(alphas=[0.2,0.3,0.5,0.6,0.8, 1], cv = 5).fit(Boston_X_train, Boston_y_train)\n",
    "print('LassoCV:',lassocv.score(Boston_X_test, Boston_y_test))\n",
    "\n"
   ]
  },
  {
   "cell_type": "markdown",
   "metadata": {
    "id": "w0d_iE883eXP"
   },
   "source": [
    "#### EXERCISE SECTION 5: PART 4\n",
    "#### Part 4: Look at the DecisionTreeClassifier documentation in scikit-learn and come to a view on which parameters can be set to help prevent overfitting (and therefore help regularization).\n",
    "\n",
    "Use the hyperparameters max_depth, min_samples_leaf, min_samples_split, ccp_alpha parameters to prevent the model from overfitting.\n"
   ]
  },
  {
   "cell_type": "markdown",
   "metadata": {
    "id": "rrVZ5owOgLlh"
   },
   "source": [
    " ## 6. Optimizing parameters \n",
    " * We applied `GridSearchCV` to identify the best hyperparameters for our models in the in-class regression tutorials.\n",
    " * There are other methods available to use that don't take the brute force approach of `GridSearchCV`.\n",
    " * We will cover an implementation of `RandomizedSearchCV` below, and use the exercise for you to implement it on the other datatset.\n",
    "  * We use this method to search over defined hyperparameters, like `GridSearchCV`, however a fixed number of parameters are sampled, as defined by `n_iter` parameter.  \n",
    "  "
   ]
  },
  {
   "cell_type": "code",
   "execution_count": 33,
   "metadata": {
    "executionInfo": {
     "elapsed": 47730,
     "status": "ok",
     "timestamp": 1607939712752,
     "user": {
      "displayName": "A J",
      "photoUrl": "https://lh3.googleusercontent.com/a-/AOh14GjZDwFqnFt3HwqF4Wu3Au0RSvls62YjJWudcDUj=s64",
      "userId": "15417262701029927930"
     },
     "user_tz": 0
    },
    "id": "od1RjPl504pw"
   },
   "outputs": [],
   "source": [
    "# import libraries - note we use scipy for generating a uniform distribution \n",
    "from scipy.stats import uniform\n",
    "from sklearn.model_selection import RandomizedSearchCV\n",
    " \n",
    "# Create logistic regression\n",
    "logistic = LogisticRegression(solver='liblinear')\n",
    " \n",
    "# we can create hyperparameters as a list, as in a type regularisation penalty \n",
    "penalty = ['l1', 'l2']\n",
    " \n",
    "# or as a distribution of values to sample from -'C' is the hyperparameter controlling the size of the regularisation penalty \n",
    "C = uniform(loc=0, scale=4)\n",
    " \n",
    "# we need to pass these parameters as a dictionary of {param_name: values}\n",
    "hyperparameters = dict(C=C, penalty=penalty)\n",
    " \n",
    "# we instantiate our model\n",
    "randomizedsearch = RandomizedSearchCV(\n",
    "    logistic, hyperparameters, random_state=1, n_iter=100, cv=5, verbose=0,\n",
    "    n_jobs=-1)\n",
    " \n",
    "# and fit it to the data \n",
    "best_model = randomizedsearch.fit(class_X, class_y)"
   ]
  },
  {
   "cell_type": "code",
   "execution_count": 34,
   "metadata": {
    "colab": {
     "base_uri": "https://localhost:8080/"
    },
    "executionInfo": {
     "elapsed": 47709,
     "status": "ok",
     "timestamp": 1607939712757,
     "user": {
      "displayName": "A J",
      "photoUrl": "https://lh3.googleusercontent.com/a-/AOh14GjZDwFqnFt3HwqF4Wu3Au0RSvls62YjJWudcDUj=s64",
      "userId": "15417262701029927930"
     },
     "user_tz": 0
    },
    "id": "Z58WbRA-tDuL",
    "outputId": "7883408d-d60f-4255-f0ff-92f1cb215dc9"
   },
   "outputs": [
    {
     "data": {
      "text/plain": [
       "LogisticRegression(C=2.6866163896885373, solver='liblinear')"
      ]
     },
     "execution_count": 34,
     "metadata": {},
     "output_type": "execute_result"
    }
   ],
   "source": [
    "# and we can call this method to return the best parameters the search returned\n",
    "best_model.best_estimator_"
   ]
  },
  {
   "cell_type": "markdown",
   "metadata": {
    "id": "Y2odbxKo040A"
   },
   "source": [
    "### EXERCISE FOR SECTION 6: \n",
    "* Part 1: Once we have fit the model to our data, we can call different methods on it, for example we can find out what the best parameters were, and we can predict using the best estimator returned by the search. Use the docs [here](https://scikit-learn.org/stable/modules/generated/sklearn.model_selection.RandomizedSearchCV.html) to call these methods on the `best_model` variable above. \n",
    "* Part 2: Implement `RandomSearchCV` on the Boston dataset\n",
    "  * Think about which parameters you want to specify\n",
    "  * You can pass these parameters to variables prior to creating the random search (as we do above)\n",
    "  * Then call methods as we do for Part 1."
   ]
  },
  {
   "cell_type": "code",
   "execution_count": 35,
   "metadata": {
    "executionInfo": {
     "elapsed": 47706,
     "status": "ok",
     "timestamp": 1607939712759,
     "user": {
      "displayName": "A J",
      "photoUrl": "https://lh3.googleusercontent.com/a-/AOh14GjZDwFqnFt3HwqF4Wu3Au0RSvls62YjJWudcDUj=s64",
      "userId": "15417262701029927930"
     },
     "user_tz": 0
    },
    "id": "Ms6grwmT048R"
   },
   "outputs": [
    {
     "name": "stdout",
     "output_type": "stream",
     "text": [
      "{'C': 2.6866163896885373, 'penalty': 'l2'}\n",
      "[0 1 1 0 0 0 1 0 1 0 0 0 1 1 1 1 0 1 0 0 1 1 1 1 0 1 0 1 1 1 0 0 0 0 1 1 1\n",
      " 1 0 1 0 1 1 1 1 1 0 1 0 1 1 1 0 1 1 1 1 0 1 1 1 1 1 1 0 0 0 1 1 1 1 0 1 1\n",
      " 0 1 1 1 1 1 1 0 1 0 0 1 0 1 1 0 1 1 0 1 0 1 1 1 1 1 0 1 1 1 1 0 1 0 1 1 1\n",
      " 1 1 0 0 0 1 0 0 1 0 1 1 0 1 1 1 1 1 0 0 1 0 1 1 0 1 1 0 0 0 0 1 1 0 1 1 1\n",
      " 1 0 1 1 1 1 0 1 1 0 1 1 1 0 0 1 0 0 1 0 1 0 0]\n"
     ]
    }
   ],
   "source": [
    "## EXERCISE SECTION 6: PART 1 \n",
    "# print the best parameters\n",
    "print(best_model.best_params_)\n",
    "# predict using the best parameters\n",
    "print(best_model.predict(X_test))"
   ]
  },
  {
   "cell_type": "code",
   "execution_count": 36,
   "metadata": {
    "executionInfo": {
     "elapsed": 47701,
     "status": "ok",
     "timestamp": 1607939712761,
     "user": {
      "displayName": "A J",
      "photoUrl": "https://lh3.googleusercontent.com/a-/AOh14GjZDwFqnFt3HwqF4Wu3Au0RSvls62YjJWudcDUj=s64",
      "userId": "15417262701029927930"
     },
     "user_tz": 0
    },
    "id": "emxT2zlrrzQ5"
   },
   "outputs": [
    {
     "name": "stdout",
     "output_type": "stream",
     "text": [
      "Best Parameters: {'max_features': 'log2', 'loss': 'huber', 'learning_rate': 0.1, 'criterion': 'mse'}\n",
      "RSquared Train: 0.9656200662680129\n",
      "RSquared Test: 0.8450590234911086\n"
     ]
    }
   ],
   "source": [
    "## EXERCISE SECTION 6: PART 2\n",
    "\n",
    "\n",
    "# We will use Gradient Boosting regression\n",
    "from sklearn.ensemble import GradientBoostingRegressor\n",
    "gbmregr = GradientBoostingRegressor()\n",
    "\n",
    "# create hyper parameters\n",
    "loss = ['squared_error','absolute_error','huber','quantile']\n",
    "max_features = ['auto','sqrt','log2']\n",
    "criterion = ['friedman_mse','squared_error','mse','mae']\n",
    "learning_rate=[0.5, 0.1,0.01]\n",
    "# min_samples_split = [2,4,8,16,32]\n",
    "# min_samples_leaf = [2,4,8,16,32]\n",
    "# max_depth = [2,4,8,16,32]\n",
    "hyperparameters = dict(loss=loss, learning_rate=learning_rate, max_features = max_features, criterion = criterion)#, min_samples_split = min_samples_split, min_samples_leaf = min_samples_leaf, max_depth = max_depth)\n",
    " \n",
    "# we instantiate our model\n",
    "randomizedsearch = RandomizedSearchCV(\n",
    "    gbmregr, hyperparameters, random_state=1, n_iter=100, cv=5, verbose=0,\n",
    "    n_jobs=-1)\n",
    " \n",
    "# and fit it to the data \n",
    "best_model = randomizedsearch.fit(Boston_X_train, Boston_y_train)\n",
    "# print the best parameters\n",
    "print('Best Parameters:',best_model.best_params_)\n",
    "\n",
    "# Get the score for train data using the best parameters\n",
    "print('RSquared Train:',best_model.score(Boston_X_train, Boston_y_train))\n",
    "# Get the score for test data using the best parameters\n",
    "print('RSquared Test:',best_model.score(Boston_X_test,Boston_y_test))"
   ]
  },
  {
   "cell_type": "markdown",
   "metadata": {
    "id": "KcFWj3HEgL9t"
   },
   "source": [
    "## 7. Ensemble models \n",
    "\n",
    "* The goal of ensemble methods is to combine different classifiers into a meta-classifier that has better generalization performance than each individual classifier alone. \n",
    "* There are several different approaches to achieve this, including **majority voting** ensemble methods, with which we select the class label that has been predicted by the majority of classifiers.\n",
    "* The ensemble can be built from different classification algorithms, such as decision trees, support vector machines, logistic regression classifiers, and so on. Alternatively, we can also use the same base classification algorithm, fitting different subsets of the training set. \n",
    "* Indeed, majority voting will work best if the classifiers used are different from each other and/or trained on different datasets (or subsets of the same data) in order for their errors to be uncorrelated.  Chapter 7 of *Python Machine Learning* has a good discussion of the principles behind Ensemble models. "
   ]
  },
  {
   "cell_type": "code",
   "execution_count": 37,
   "metadata": {
    "executionInfo": {
     "elapsed": 47697,
     "status": "ok",
     "timestamp": 1607939712763,
     "user": {
      "displayName": "A J",
      "photoUrl": "https://lh3.googleusercontent.com/a-/AOh14GjZDwFqnFt3HwqF4Wu3Au0RSvls62YjJWudcDUj=s64",
      "userId": "15417262701029927930"
     },
     "user_tz": 0
    },
    "id": "0zCHjuFr1orF"
   },
   "outputs": [],
   "source": [
    "# import our classifiers\n",
    "from sklearn.ensemble import RandomForestClassifier\n",
    "from sklearn.ensemble import VotingClassifier\n",
    "from sklearn.svm import SVC\n",
    "from sklearn.metrics import accuracy_score\n",
    " \n",
    "# lets instantiate individual models \n",
    "log_clf = LogisticRegression(solver='liblinear')\n",
    "rnd_clf = RandomForestClassifier()\n",
    "svm_clf = SVC()\n",
    " \n",
    "# and an ensemble of them\n",
    "voting_clf = VotingClassifier(estimators=[('lr', log_clf), ('rf', rnd_clf), ('svc', svm_clf)],\n",
    "                              # here we select hard voting, which returns the majority of the predictions, not an average of probabilities\n",
    "                              voting='hard')"
   ]
  },
  {
   "cell_type": "code",
   "execution_count": 38,
   "metadata": {
    "colab": {
     "base_uri": "https://localhost:8080/"
    },
    "executionInfo": {
     "elapsed": 48144,
     "status": "ok",
     "timestamp": 1607939713226,
     "user": {
      "displayName": "A J",
      "photoUrl": "https://lh3.googleusercontent.com/a-/AOh14GjZDwFqnFt3HwqF4Wu3Au0RSvls62YjJWudcDUj=s64",
      "userId": "15417262701029927930"
     },
     "user_tz": 0
    },
    "id": "blYK41CIoM-F",
    "outputId": "50900345-e1a8-431e-809f-40b6f6fc8c6d"
   },
   "outputs": [
    {
     "name": "stdout",
     "output_type": "stream",
     "text": [
      "LogisticRegression 0.9473684210526315\n",
      "RandomForestClassifier 0.9473684210526315\n",
      "SVC 0.9239766081871345\n",
      "VotingClassifier 0.9532163742690059\n"
     ]
    }
   ],
   "source": [
    "# here we can cycle through the individual estimators \n",
    "for clf in (log_clf, rnd_clf, svm_clf, voting_clf):\n",
    "    \n",
    "    # fit them to the training data \n",
    "    clf.fit(X_train, y_train)\n",
    "    \n",
    "    # get a prediction\n",
    "    y_pred = clf.predict(X_test)\n",
    "    \n",
    "    # and print the prediction \n",
    "    print(clf.__class__.__name__, accuracy_score(y_test, y_pred))"
   ]
  },
  {
   "cell_type": "markdown",
   "metadata": {
    "id": "iIoSkRC31o36"
   },
   "source": [
    "### EXERCISE FOR SECTION 7: \n",
    "* Part 1: Implement **soft voting**.\n",
    " * If all the classifiers used in the ensemble are able to estimate class probabilities (they have a `predict_proba()` method that can be called on the estimator), then you can tell Scikit-Learn to predict the class with the highest class probability, averaged over all the individual classifiers. It often achieves higher performance than hard voting because it gives more weight to highly confident votes. \n",
    " *  Replace `voting=\"hard\"` with `voting=\"soft\"` and ensure that all your classifiers can estimate class probabilities. \n",
    "  * If you use the SVC estimator, you need to set `probability = True`, which will make the SVC class use cross-validation to estimate class probabilities and add a predict_proba() method. \n",
    "\n",
    "* Part 2: Implement Ensemble Learning on the Boston Dataset.\n"
   ]
  },
  {
   "cell_type": "code",
   "execution_count": 39,
   "metadata": {
    "executionInfo": {
     "elapsed": 48140,
     "status": "ok",
     "timestamp": 1607939713228,
     "user": {
      "displayName": "A J",
      "photoUrl": "https://lh3.googleusercontent.com/a-/AOh14GjZDwFqnFt3HwqF4Wu3Au0RSvls62YjJWudcDUj=s64",
      "userId": "15417262701029927930"
     },
     "user_tz": 0
    },
    "id": "KM8-EZ7S1pNA",
    "scrolled": true
   },
   "outputs": [
    {
     "name": "stdout",
     "output_type": "stream",
     "text": [
      "LogisticRegression [0.97478992 0.99159664 0.93277311]\n",
      "RandomForestClassifier [0.95798319 0.99159664 0.95798319]\n",
      "SVC [0.97478992 0.99159664 0.97478992]\n",
      "VotingClassifier [0.99159664 0.99159664 0.95798319]\n"
     ]
    }
   ],
   "source": [
    "## EXERCISE SECTION 7: PART 1 \n",
    "\n",
    "# lets instantiate individual models \n",
    "log_clf = LogisticRegression(solver='liblinear')\n",
    "rnd_clf = RandomForestClassifier()\n",
    "svm_clf = SVC(probability = True)\n",
    " \n",
    "# and an ensemble of them\n",
    "voting_clf = VotingClassifier(estimators=[('lr', log_clf), ('rf', rnd_clf), ('svc', svm_clf)],\n",
    "                              # here we select soft voting, which returns the average of probabilities\n",
    "                              voting='soft')\n",
    "\n",
    "# here we can cycle through the individual estimators \n",
    "for clf in (log_clf, rnd_clf, svm_clf, voting_clf):\n",
    "    \n",
    "    # fit them to the training data \n",
    "    clf.fit(X_train, y_train)\n",
    "    \n",
    "    # get a prediction\n",
    "    y_pred = clf.predict_proba(X_test)\n",
    "    \n",
    "    # and print the prediction \n",
    "    print(clf.__class__.__name__, cross_val_score(clf, class_X, class_y, cv=3, scoring=\"recall\") )\n",
    "    "
   ]
  },
  {
   "cell_type": "code",
   "execution_count": 40,
   "metadata": {
    "executionInfo": {
     "elapsed": 48137,
     "status": "ok",
     "timestamp": 1607939713229,
     "user": {
      "displayName": "A J",
      "photoUrl": "https://lh3.googleusercontent.com/a-/AOh14GjZDwFqnFt3HwqF4Wu3Au0RSvls62YjJWudcDUj=s64",
      "userId": "15417262701029927930"
     },
     "user_tz": 0
    },
    "id": "fHtG2PNJpFFH"
   },
   "outputs": [
    {
     "name": "stdout",
     "output_type": "stream",
     "text": [
      "LinearRegression 0.6144064431452883\n",
      "RandomForestRegressor 0.8806418693338073\n",
      "SVR 0.11569373089686708\n",
      "VotingRegressor 0.6976143213929777\n"
     ]
    }
   ],
   "source": [
    "## EXERCISE SECTION 7: PART 2 \n",
    "\n",
    "# import the regressor libraries\n",
    "from sklearn.linear_model import LinearRegression\n",
    "from sklearn.ensemble import RandomForestRegressor\n",
    "from sklearn.svm import SVR\n",
    "from sklearn.ensemble import VotingRegressor\n",
    "\n",
    "# lets instantiate individual models \n",
    "logreg = LinearRegression()\n",
    "rndreg = RandomForestRegressor()\n",
    "svmreg = SVR()\n",
    " \n",
    "# and an ensemble of them\n",
    "votingreg = VotingRegressor(estimators=[('lr', logreg), ('rf', rndreg), ('svr', svmreg)])\n",
    "\n",
    "# here we can cycle through the individual estimators \n",
    "for reg in (logreg, rndreg, svmreg, votingreg):\n",
    "    \n",
    "    # fit them to the training data \n",
    "    reg.fit(Boston_X_train, Boston_y_train)\n",
    "    \n",
    "    # and print the prediction \n",
    "    print(reg.__class__.__name__, reg.score(Boston_X_test, Boston_y_test) )"
   ]
  },
  {
   "cell_type": "markdown",
   "metadata": {
    "id": "ojriAzfkgMXC"
   },
   "source": [
    "## 8. Building Pipelines\n",
    "* We can build a pipeline so that many of the steps we have covered to now can be implemented in one step, and be applied to the training and testing set without repeating code.\n",
    "* We will cover one implementation of a pipeline. The exercise below will link to further information for you to be able implement your own pipelines."
   ]
  },
  {
   "cell_type": "code",
   "execution_count": 41,
   "metadata": {
    "executionInfo": {
     "elapsed": 48125,
     "status": "ok",
     "timestamp": 1607939713231,
     "user": {
      "displayName": "A J",
      "photoUrl": "https://lh3.googleusercontent.com/a-/AOh14GjZDwFqnFt3HwqF4Wu3Au0RSvls62YjJWudcDUj=s64",
      "userId": "15417262701029927930"
     },
     "user_tz": 0
    },
    "id": "JR_8ZldC1rvI"
   },
   "outputs": [],
   "source": [
    "# import the libraries - these are dependent on what we wish to implement in our pipelines\n",
    "from sklearn.preprocessing import StandardScaler\n",
    "from sklearn.decomposition import PCA\n",
    "from sklearn.linear_model import LogisticRegression\n",
    "# this is the pipeline class required to implement all pipelines\n",
    "from sklearn.pipeline import make_pipeline"
   ]
  },
  {
   "cell_type": "code",
   "execution_count": 42,
   "metadata": {
    "executionInfo": {
     "elapsed": 48121,
     "status": "ok",
     "timestamp": 1607939713232,
     "user": {
      "displayName": "A J",
      "photoUrl": "https://lh3.googleusercontent.com/a-/AOh14GjZDwFqnFt3HwqF4Wu3Au0RSvls62YjJWudcDUj=s64",
      "userId": "15417262701029927930"
     },
     "user_tz": 0
    },
    "id": "XEmL5PNwslpH"
   },
   "outputs": [],
   "source": [
    "# here we instantiate the pipeline with our methods\n",
    "pipe_lr = make_pipeline(StandardScaler(),                    # takes an arbitary number of transfomers\n",
    "                        PCA(n_components=2),\n",
    "                        LogisticRegression(random_state=1))  # but ends with an estimator"
   ]
  },
  {
   "cell_type": "code",
   "execution_count": 43,
   "metadata": {
    "colab": {
     "base_uri": "https://localhost:8080/"
    },
    "executionInfo": {
     "elapsed": 48099,
     "status": "ok",
     "timestamp": 1607939713234,
     "user": {
      "displayName": "A J",
      "photoUrl": "https://lh3.googleusercontent.com/a-/AOh14GjZDwFqnFt3HwqF4Wu3Au0RSvls62YjJWudcDUj=s64",
      "userId": "15417262701029927930"
     },
     "user_tz": 0
    },
    "id": "HhAe2-Wdslzd",
    "outputId": "92f7bbf9-403d-4c0b-ee13-c64bd8990f15"
   },
   "outputs": [
    {
     "data": {
      "text/plain": [
       "Pipeline(steps=[('standardscaler', StandardScaler()),\n",
       "                ('pca', PCA(n_components=2)),\n",
       "                ('logisticregression', LogisticRegression(random_state=1))])"
      ]
     },
     "execution_count": 43,
     "metadata": {},
     "output_type": "execute_result"
    }
   ],
   "source": [
    "# here we fit our pipeline to the data, so that the steps above are executed on the training set\n",
    "pipe_lr.fit(X_train, y_train)"
   ]
  },
  {
   "cell_type": "code",
   "execution_count": 44,
   "metadata": {
    "executionInfo": {
     "elapsed": 48094,
     "status": "ok",
     "timestamp": 1607939713236,
     "user": {
      "displayName": "A J",
      "photoUrl": "https://lh3.googleusercontent.com/a-/AOh14GjZDwFqnFt3HwqF4Wu3Au0RSvls62YjJWudcDUj=s64",
      "userId": "15417262701029927930"
     },
     "user_tz": 0
    },
    "id": "Z2dROmyLvph8"
   },
   "outputs": [],
   "source": [
    "# here we call the predict method on our pipeline model against the test set \n",
    "y_pred = pipe_lr.predict(X_test)"
   ]
  },
  {
   "cell_type": "code",
   "execution_count": 45,
   "metadata": {
    "colab": {
     "base_uri": "https://localhost:8080/"
    },
    "executionInfo": {
     "elapsed": 48073,
     "status": "ok",
     "timestamp": 1607939713237,
     "user": {
      "displayName": "A J",
      "photoUrl": "https://lh3.googleusercontent.com/a-/AOh14GjZDwFqnFt3HwqF4Wu3Au0RSvls62YjJWudcDUj=s64",
      "userId": "15417262701029927930"
     },
     "user_tz": 0
    },
    "id": "dVyLf9QNvKzG",
    "outputId": "528aa8e8-0b1f-4fde-a0ac-4c8db56ced07"
   },
   "outputs": [
    {
     "name": "stdout",
     "output_type": "stream",
     "text": [
      "Test Accuracy: 0.947\n"
     ]
    }
   ],
   "source": [
    "# and print out the result\n",
    "print('Test Accuracy: %.3f' % accuracy_score(y_test, y_pred))"
   ]
  },
  {
   "cell_type": "markdown",
   "metadata": {
    "id": "Wn3FnXs71r53"
   },
   "source": [
    "### EXERCISE FOR SECTION 8: \n",
    "* Implement a pipeline on the classification dataset (the one used in the example above). Specifically, implement `K-Fold Cross Validation` as set out in  *Python Machine Learning*, Chapter 6.\n",
    "  Moreinformation on pipelines is available at this [link](https://www.kdnuggets.com/2017/12/managing-machine-learning-workflows-scikit-learn-pipelines-part-1.html) blog series \n",
    "* Think about:\n",
    "  * the code being implemented for `K-Fold Cross Validation` as part of the pipeline. Put comments above the code to explain what is happening. \n",
    "  * how you want to preprocess the data\n",
    "  * whether you want to think about reducing the dimensions of the data with something like `Principal Component Analysis` and why\n",
    "  * what algorithm you want to use \n",
    "  * make sure to predict the data"
   ]
  },
  {
   "cell_type": "code",
   "execution_count": 46,
   "metadata": {
    "executionInfo": {
     "elapsed": 48067,
     "status": "ok",
     "timestamp": 1607939713238,
     "user": {
      "displayName": "A J",
      "photoUrl": "https://lh3.googleusercontent.com/a-/AOh14GjZDwFqnFt3HwqF4Wu3Au0RSvls62YjJWudcDUj=s64",
      "userId": "15417262701029927930"
     },
     "user_tz": 0
    },
    "id": "bJPj73ve1sG8"
   },
   "outputs": [
    {
     "name": "stdout",
     "output_type": "stream",
     "text": [
      "Validation Accuracy: 0.985\n",
      "Validation Accuracy: 0.977\n",
      "Validation Accuracy: 0.962\n",
      "Average CV Accuracy: 0.975\n"
     ]
    }
   ],
   "source": [
    "## EXERCISE CODE HERE\n",
    "\n",
    "# here we instantiate the pipeline with our methods\n",
    "pipe_lr = make_pipeline(StandardScaler(),   # we will use StandardScaler to normalize the data\n",
    "                        PCA(n_components=5), # we will pca for dimensionality reduction keeping only  top 5 components that explain the maximum variance\n",
    "                        LogisticRegression(random_state=1))  # but ends with an estimator\n",
    "#Approach 1 using kfold function\n",
    "#import the kfold library\n",
    "from sklearn.model_selection import KFold\n",
    "# instantiate the kfold function with 3 folds(each fold having 2 splits of train and 1split of test data) and shuffled before splitting the data\n",
    "kfold = KFold(n_splits= 3, shuffle=True, random_state=1)\n",
    "# loop through Each fold which is constituted by two arrays: the first one is related to the training set, and the second one to the validation set.\n",
    "scores = []\n",
    "for train, validate in kfold.split(X_train):\n",
    "    #fit the pipeline with the train array\n",
    "    pipe_lr.fit(X_train.iloc[train], y_train[train])    \n",
    "    # here we call the predict method on our pipeline model against the validation data \n",
    "    y_validate_pred = pipe_lr.predict(X_train.iloc[validate])\n",
    "    # and print out the validation prediction result\n",
    "    scores.append( accuracy_score(y_train[validate], y_validate_pred) )\n",
    "    print('Validation Accuracy: %.3f' % accuracy_score(y_train[validate], y_validate_pred))\n",
    "\n",
    "print('Average CV Accuracy: %.3f' % np.mean(scores))\n",
    "    "
   ]
  },
  {
   "cell_type": "code",
   "execution_count": 47,
   "metadata": {},
   "outputs": [
    {
     "name": "stdout",
     "output_type": "stream",
     "text": [
      "[0.96992481 0.95488722 0.99242424]\n",
      "Average CV Accuracy: 0.972\n"
     ]
    }
   ],
   "source": [
    "#Approach 2 using cross_val_score function\n",
    "# import the kfold cross validation score function library\n",
    "from sklearn.model_selection import cross_val_score\n",
    "#call the cross validation score function to evaluate the pipe_lr with 3 folds\n",
    "print(cross_val_score(estimator=pipe_lr, X=X_train, y=y_train, cv=3))\n",
    "print('Average CV Accuracy: %.3f' % np.mean(cross_val_score(estimator=pipe_lr, X=X_train, y=y_train, cv=3)))\n"
   ]
  },
  {
   "cell_type": "markdown",
   "metadata": {
    "id": "B7jIn9fwgMew"
   },
   "source": [
    "## 9. Review\n",
    "* We have covered:\n",
    "  * Scaling and Standardizing Data \n",
    "  * Model Evaluation and Metrics \n",
    "  * Classification and regression machine learning algorithms  \n",
    "  * Regularization\n",
    "  * Optimising parameters \n",
    "  * Ensemble models \n",
    "  * Building Pipelines\n",
    "* We have of course not covered everything that it is possible to cover, and there is plenty more to research. Please ask questions on Teams or follow-up with your own research."
   ]
  }
 ],
 "metadata": {
  "accelerator": "GPU",
  "colab": {
   "collapsed_sections": [
    "w0d_iE883eXP"
   ],
   "name": "Oxford_scikit_learn.ipynb",
   "provenance": []
  },
  "kernelspec": {
   "display_name": "Python 3",
   "language": "python",
   "name": "python3"
  },
  "language_info": {
   "codemirror_mode": {
    "name": "ipython",
    "version": 3
   },
   "file_extension": ".py",
   "mimetype": "text/x-python",
   "name": "python",
   "nbconvert_exporter": "python",
   "pygments_lexer": "ipython3",
   "version": "3.8.3"
  }
 },
 "nbformat": 4,
 "nbformat_minor": 1
}
